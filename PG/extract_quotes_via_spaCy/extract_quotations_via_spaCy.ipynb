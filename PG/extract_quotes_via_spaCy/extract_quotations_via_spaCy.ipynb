{
 "cells": [
  {
   "cell_type": "code",
   "execution_count": 51,
   "id": "d84d6bdc",
   "metadata": {
    "collapsed": true,
    "jupyter": {
     "outputs_hidden": true
    }
   },
   "outputs": [],
   "source": [
    "# !pip install -U pip setuptools wheel\n",
    "# !pip install -U 'spacy[apple]'\n",
    "# !pip install spacy"
   ]
  },
  {
   "cell_type": "code",
   "execution_count": 19,
   "id": "0aab0edf",
   "metadata": {
    "collapsed": true,
    "jupyter": {
     "outputs_hidden": true
    }
   },
   "outputs": [
    {
     "name": "stdout",
     "output_type": "stream",
     "text": [
      "Collecting en-core-web-trf==3.7.3\n",
      "  Downloading https://github.com/explosion/spacy-models/releases/download/en_core_web_trf-3.7.3/en_core_web_trf-3.7.3-py3-none-any.whl (457.4 MB)\n",
      "\u001b[2K     \u001b[38;2;114;156;31m━━━━━━━━━━━━━━━━━━━━━━━━━━━━━━━━━━━━━━━\u001b[0m \u001b[32m457.4/457.4 MB\u001b[0m \u001b[31m6.7 MB/s\u001b[0m eta \u001b[36m0:00:00\u001b[0mm eta \u001b[36m0:00:01\u001b[0m[36m0:00:01\u001b[0m\n",
      "\u001b[?25hRequirement already satisfied: spacy<3.8.0,>=3.7.2 in /Users/ryanbrate/miniconda3/envs/mexico/lib/python3.10/site-packages (from en-core-web-trf==3.7.3) (3.7.5)\n",
      "Collecting spacy-curated-transformers<0.3.0,>=0.2.0 (from en-core-web-trf==3.7.3)\n",
      "  Downloading spacy_curated_transformers-0.2.2-py2.py3-none-any.whl.metadata (2.7 kB)\n",
      "Requirement already satisfied: spacy-legacy<3.1.0,>=3.0.11 in /Users/ryanbrate/miniconda3/envs/mexico/lib/python3.10/site-packages (from spacy<3.8.0,>=3.7.2->en-core-web-trf==3.7.3) (3.0.12)\n",
      "Requirement already satisfied: spacy-loggers<2.0.0,>=1.0.0 in /Users/ryanbrate/miniconda3/envs/mexico/lib/python3.10/site-packages (from spacy<3.8.0,>=3.7.2->en-core-web-trf==3.7.3) (1.0.5)\n",
      "Requirement already satisfied: murmurhash<1.1.0,>=0.28.0 in /Users/ryanbrate/miniconda3/envs/mexico/lib/python3.10/site-packages (from spacy<3.8.0,>=3.7.2->en-core-web-trf==3.7.3) (1.0.10)\n",
      "Requirement already satisfied: cymem<2.1.0,>=2.0.2 in /Users/ryanbrate/miniconda3/envs/mexico/lib/python3.10/site-packages (from spacy<3.8.0,>=3.7.2->en-core-web-trf==3.7.3) (2.0.8)\n",
      "Requirement already satisfied: preshed<3.1.0,>=3.0.2 in /Users/ryanbrate/miniconda3/envs/mexico/lib/python3.10/site-packages (from spacy<3.8.0,>=3.7.2->en-core-web-trf==3.7.3) (3.0.9)\n",
      "Requirement already satisfied: thinc<8.3.0,>=8.2.2 in /Users/ryanbrate/miniconda3/envs/mexico/lib/python3.10/site-packages (from spacy<3.8.0,>=3.7.2->en-core-web-trf==3.7.3) (8.2.5)\n",
      "Requirement already satisfied: wasabi<1.2.0,>=0.9.1 in /Users/ryanbrate/miniconda3/envs/mexico/lib/python3.10/site-packages (from spacy<3.8.0,>=3.7.2->en-core-web-trf==3.7.3) (1.1.3)\n",
      "Requirement already satisfied: srsly<3.0.0,>=2.4.3 in /Users/ryanbrate/miniconda3/envs/mexico/lib/python3.10/site-packages (from spacy<3.8.0,>=3.7.2->en-core-web-trf==3.7.3) (2.4.8)\n",
      "Requirement already satisfied: catalogue<2.1.0,>=2.0.6 in /Users/ryanbrate/miniconda3/envs/mexico/lib/python3.10/site-packages (from spacy<3.8.0,>=3.7.2->en-core-web-trf==3.7.3) (2.0.10)\n",
      "Requirement already satisfied: weasel<0.5.0,>=0.1.0 in /Users/ryanbrate/miniconda3/envs/mexico/lib/python3.10/site-packages (from spacy<3.8.0,>=3.7.2->en-core-web-trf==3.7.3) (0.4.1)\n",
      "Requirement already satisfied: typer<1.0.0,>=0.3.0 in /Users/ryanbrate/miniconda3/envs/mexico/lib/python3.10/site-packages (from spacy<3.8.0,>=3.7.2->en-core-web-trf==3.7.3) (0.12.3)\n",
      "Requirement already satisfied: tqdm<5.0.0,>=4.38.0 in /Users/ryanbrate/miniconda3/envs/mexico/lib/python3.10/site-packages (from spacy<3.8.0,>=3.7.2->en-core-web-trf==3.7.3) (4.66.1)\n",
      "Requirement already satisfied: requests<3.0.0,>=2.13.0 in /Users/ryanbrate/miniconda3/envs/mexico/lib/python3.10/site-packages (from spacy<3.8.0,>=3.7.2->en-core-web-trf==3.7.3) (2.31.0)\n",
      "Requirement already satisfied: pydantic!=1.8,!=1.8.1,<3.0.0,>=1.7.4 in /Users/ryanbrate/miniconda3/envs/mexico/lib/python3.10/site-packages (from spacy<3.8.0,>=3.7.2->en-core-web-trf==3.7.3) (2.8.2)\n",
      "Requirement already satisfied: jinja2 in /Users/ryanbrate/miniconda3/envs/mexico/lib/python3.10/site-packages (from spacy<3.8.0,>=3.7.2->en-core-web-trf==3.7.3) (3.1.3)\n",
      "Requirement already satisfied: setuptools in /Users/ryanbrate/miniconda3/envs/mexico/lib/python3.10/site-packages (from spacy<3.8.0,>=3.7.2->en-core-web-trf==3.7.3) (68.2.2)\n",
      "Requirement already satisfied: packaging>=20.0 in /Users/ryanbrate/miniconda3/envs/mexico/lib/python3.10/site-packages (from spacy<3.8.0,>=3.7.2->en-core-web-trf==3.7.3) (23.2)\n",
      "Requirement already satisfied: langcodes<4.0.0,>=3.2.0 in /Users/ryanbrate/miniconda3/envs/mexico/lib/python3.10/site-packages (from spacy<3.8.0,>=3.7.2->en-core-web-trf==3.7.3) (3.4.0)\n",
      "Requirement already satisfied: numpy>=1.19.0 in /Users/ryanbrate/miniconda3/envs/mexico/lib/python3.10/site-packages (from spacy<3.8.0,>=3.7.2->en-core-web-trf==3.7.3) (1.26.4)\n",
      "Collecting curated-transformers<0.2.0,>=0.1.0 (from spacy-curated-transformers<0.3.0,>=0.2.0->en-core-web-trf==3.7.3)\n",
      "  Downloading curated_transformers-0.1.1-py2.py3-none-any.whl.metadata (965 bytes)\n",
      "Collecting curated-tokenizers<0.1.0,>=0.0.9 (from spacy-curated-transformers<0.3.0,>=0.2.0->en-core-web-trf==3.7.3)\n",
      "  Downloading curated_tokenizers-0.0.9-cp310-cp310-macosx_11_0_arm64.whl.metadata (1.9 kB)\n",
      "Requirement already satisfied: torch>=1.12.0 in /Users/ryanbrate/miniconda3/envs/mexico/lib/python3.10/site-packages (from spacy-curated-transformers<0.3.0,>=0.2.0->en-core-web-trf==3.7.3) (2.1.0)\n",
      "Requirement already satisfied: regex>=2022 in /Users/ryanbrate/miniconda3/envs/mexico/lib/python3.10/site-packages (from curated-tokenizers<0.1.0,>=0.0.9->spacy-curated-transformers<0.3.0,>=0.2.0->en-core-web-trf==3.7.3) (2023.12.25)\n",
      "Requirement already satisfied: language-data>=1.2 in /Users/ryanbrate/miniconda3/envs/mexico/lib/python3.10/site-packages (from langcodes<4.0.0,>=3.2.0->spacy<3.8.0,>=3.7.2->en-core-web-trf==3.7.3) (1.2.0)\n",
      "Requirement already satisfied: annotated-types>=0.4.0 in /Users/ryanbrate/miniconda3/envs/mexico/lib/python3.10/site-packages (from pydantic!=1.8,!=1.8.1,<3.0.0,>=1.7.4->spacy<3.8.0,>=3.7.2->en-core-web-trf==3.7.3) (0.7.0)\n",
      "Requirement already satisfied: pydantic-core==2.20.1 in /Users/ryanbrate/miniconda3/envs/mexico/lib/python3.10/site-packages (from pydantic!=1.8,!=1.8.1,<3.0.0,>=1.7.4->spacy<3.8.0,>=3.7.2->en-core-web-trf==3.7.3) (2.20.1)\n",
      "Requirement already satisfied: typing-extensions>=4.6.1 in /Users/ryanbrate/miniconda3/envs/mexico/lib/python3.10/site-packages (from pydantic!=1.8,!=1.8.1,<3.0.0,>=1.7.4->spacy<3.8.0,>=3.7.2->en-core-web-trf==3.7.3) (4.10.0)\n",
      "Requirement already satisfied: charset-normalizer<4,>=2 in /Users/ryanbrate/miniconda3/envs/mexico/lib/python3.10/site-packages (from requests<3.0.0,>=2.13.0->spacy<3.8.0,>=3.7.2->en-core-web-trf==3.7.3) (3.3.2)\n",
      "Requirement already satisfied: idna<4,>=2.5 in /Users/ryanbrate/miniconda3/envs/mexico/lib/python3.10/site-packages (from requests<3.0.0,>=2.13.0->spacy<3.8.0,>=3.7.2->en-core-web-trf==3.7.3) (3.6)\n",
      "Requirement already satisfied: urllib3<3,>=1.21.1 in /Users/ryanbrate/miniconda3/envs/mexico/lib/python3.10/site-packages (from requests<3.0.0,>=2.13.0->spacy<3.8.0,>=3.7.2->en-core-web-trf==3.7.3) (2.2.1)\n",
      "Requirement already satisfied: certifi>=2017.4.17 in /Users/ryanbrate/miniconda3/envs/mexico/lib/python3.10/site-packages (from requests<3.0.0,>=2.13.0->spacy<3.8.0,>=3.7.2->en-core-web-trf==3.7.3) (2024.2.2)\n",
      "Requirement already satisfied: blis<0.8.0,>=0.7.8 in /Users/ryanbrate/miniconda3/envs/mexico/lib/python3.10/site-packages (from thinc<8.3.0,>=8.2.2->spacy<3.8.0,>=3.7.2->en-core-web-trf==3.7.3) (0.7.11)\n",
      "Requirement already satisfied: confection<1.0.0,>=0.0.1 in /Users/ryanbrate/miniconda3/envs/mexico/lib/python3.10/site-packages (from thinc<8.3.0,>=8.2.2->spacy<3.8.0,>=3.7.2->en-core-web-trf==3.7.3) (0.1.5)\n",
      "Requirement already satisfied: filelock in /Users/ryanbrate/miniconda3/envs/mexico/lib/python3.10/site-packages (from torch>=1.12.0->spacy-curated-transformers<0.3.0,>=0.2.0->en-core-web-trf==3.7.3) (3.13.1)\n",
      "Requirement already satisfied: sympy in /Users/ryanbrate/miniconda3/envs/mexico/lib/python3.10/site-packages (from torch>=1.12.0->spacy-curated-transformers<0.3.0,>=0.2.0->en-core-web-trf==3.7.3) (1.12)\n",
      "Requirement already satisfied: networkx in /Users/ryanbrate/miniconda3/envs/mexico/lib/python3.10/site-packages (from torch>=1.12.0->spacy-curated-transformers<0.3.0,>=0.2.0->en-core-web-trf==3.7.3) (3.1)\n",
      "Requirement already satisfied: fsspec in /Users/ryanbrate/miniconda3/envs/mexico/lib/python3.10/site-packages (from torch>=1.12.0->spacy-curated-transformers<0.3.0,>=0.2.0->en-core-web-trf==3.7.3) (2023.9.2)\n",
      "Requirement already satisfied: click>=8.0.0 in /Users/ryanbrate/miniconda3/envs/mexico/lib/python3.10/site-packages (from typer<1.0.0,>=0.3.0->spacy<3.8.0,>=3.7.2->en-core-web-trf==3.7.3) (8.1.7)\n",
      "Requirement already satisfied: shellingham>=1.3.0 in /Users/ryanbrate/miniconda3/envs/mexico/lib/python3.10/site-packages (from typer<1.0.0,>=0.3.0->spacy<3.8.0,>=3.7.2->en-core-web-trf==3.7.3) (1.5.4)\n",
      "Requirement already satisfied: rich>=10.11.0 in /Users/ryanbrate/miniconda3/envs/mexico/lib/python3.10/site-packages (from typer<1.0.0,>=0.3.0->spacy<3.8.0,>=3.7.2->en-core-web-trf==3.7.3) (13.7.1)\n",
      "Requirement already satisfied: cloudpathlib<1.0.0,>=0.7.0 in /Users/ryanbrate/miniconda3/envs/mexico/lib/python3.10/site-packages (from weasel<0.5.0,>=0.1.0->spacy<3.8.0,>=3.7.2->en-core-web-trf==3.7.3) (0.18.1)\n",
      "Requirement already satisfied: smart-open<8.0.0,>=5.2.1 in /Users/ryanbrate/miniconda3/envs/mexico/lib/python3.10/site-packages (from weasel<0.5.0,>=0.1.0->spacy<3.8.0,>=3.7.2->en-core-web-trf==3.7.3) (6.4.0)\n",
      "Requirement already satisfied: MarkupSafe>=2.0 in /Users/ryanbrate/miniconda3/envs/mexico/lib/python3.10/site-packages (from jinja2->spacy<3.8.0,>=3.7.2->en-core-web-trf==3.7.3) (2.1.5)\n",
      "Requirement already satisfied: marisa-trie>=0.7.7 in /Users/ryanbrate/miniconda3/envs/mexico/lib/python3.10/site-packages (from language-data>=1.2->langcodes<4.0.0,>=3.2.0->spacy<3.8.0,>=3.7.2->en-core-web-trf==3.7.3) (1.2.0)\n",
      "Requirement already satisfied: markdown-it-py>=2.2.0 in /Users/ryanbrate/miniconda3/envs/mexico/lib/python3.10/site-packages (from rich>=10.11.0->typer<1.0.0,>=0.3.0->spacy<3.8.0,>=3.7.2->en-core-web-trf==3.7.3) (3.0.0)\n",
      "Requirement already satisfied: pygments<3.0.0,>=2.13.0 in /Users/ryanbrate/miniconda3/envs/mexico/lib/python3.10/site-packages (from rich>=10.11.0->typer<1.0.0,>=0.3.0->spacy<3.8.0,>=3.7.2->en-core-web-trf==3.7.3) (2.17.2)\n",
      "Requirement already satisfied: mpmath>=0.19 in /Users/ryanbrate/miniconda3/envs/mexico/lib/python3.10/site-packages (from sympy->torch>=1.12.0->spacy-curated-transformers<0.3.0,>=0.2.0->en-core-web-trf==3.7.3) (1.3.0)\n",
      "Requirement already satisfied: mdurl~=0.1 in /Users/ryanbrate/miniconda3/envs/mexico/lib/python3.10/site-packages (from markdown-it-py>=2.2.0->rich>=10.11.0->typer<1.0.0,>=0.3.0->spacy<3.8.0,>=3.7.2->en-core-web-trf==3.7.3) (0.1.2)\n",
      "Downloading spacy_curated_transformers-0.2.2-py2.py3-none-any.whl (236 kB)\n",
      "\u001b[2K   \u001b[38;2;114;156;31m━━━━━━━━━━━━━━━━━━━━━━━━━━━━━━━━━━━━━━━━\u001b[0m \u001b[32m236.3/236.3 kB\u001b[0m \u001b[31m9.4 MB/s\u001b[0m eta \u001b[36m0:00:00\u001b[0m\n",
      "\u001b[?25hDownloading curated_tokenizers-0.0.9-cp310-cp310-macosx_11_0_arm64.whl (702 kB)\n",
      "\u001b[2K   \u001b[38;2;114;156;31m━━━━━━━━━━━━━━━━━━━━━━━━━━━━━━━━━━━━━━━━\u001b[0m \u001b[32m702.9/702.9 kB\u001b[0m \u001b[31m11.7 MB/s\u001b[0m eta \u001b[36m0:00:00\u001b[0m31m13.3 MB/s\u001b[0m eta \u001b[36m0:00:01\u001b[0m\n",
      "\u001b[?25hDownloading curated_transformers-0.1.1-py2.py3-none-any.whl (25 kB)\n",
      "Installing collected packages: curated-tokenizers, curated-transformers, spacy-curated-transformers, en-core-web-trf\n",
      "Successfully installed curated-tokenizers-0.0.9 curated-transformers-0.1.1 en-core-web-trf-3.7.3 spacy-curated-transformers-0.2.2\n",
      "\u001b[38;5;2m✔ Download and installation successful\u001b[0m\n",
      "You can now load the package via spacy.load('en_core_web_trf')\n"
     ]
    }
   ],
   "source": [
    "# !python -m spacy download en_core_web_lg\n",
    "# !python -m spacy download en_core_web_md\n",
    "# !python -m spacy download en_core_web_trf"
   ]
  },
  {
   "cell_type": "code",
   "execution_count": 1,
   "id": "db2d94fd",
   "metadata": {},
   "outputs": [],
   "source": [
    "import pathlib\n",
    "import re\n",
    "from tqdm import tqdm\n",
    "import typing\n",
    "from pprint import pprint as pp\n",
    "import json\n",
    "import spacy\n",
    "from spacy import displacy\n",
    "from nltk.tokenize import word_tokenize\n",
    "from collections import Counter, defaultdict\n",
    "import numpy as np"
   ]
  },
  {
   "cell_type": "markdown",
   "id": "ae61c0a5",
   "metadata": {},
   "source": [
    "load the spacy model"
   ]
  },
  {
   "cell_type": "code",
   "execution_count": 2,
   "id": "72f5de2d",
   "metadata": {},
   "outputs": [],
   "source": [
    "nlp = spacy.load(\"en_core_web_lg\")\n",
    "# nlp = spacy.load(\"en_core_web_trf\")"
   ]
  },
  {
   "cell_type": "markdown",
   "id": "881dbcca",
   "metadata": {},
   "source": [
    "# target word: negro"
   ]
  },
  {
   "cell_type": "markdown",
   "id": "d77f2043",
   "metadata": {},
   "source": [
    "## Identify all books in PG American Literature corpus that contain 'negro'"
   ]
  },
  {
   "cell_type": "markdown",
   "id": "e0be60b8",
   "metadata": {},
   "source": [
    "the American literate corpus, corresponds to \"en,PS,fiction\", which can be found in ~/surfdrive/Data/PG_en_PS_fiction_050204"
   ]
  },
  {
   "cell_type": "code",
   "execution_count": 3,
   "id": "925075d6",
   "metadata": {},
   "outputs": [
    {
     "data": {
      "text/plain": [
       "True"
      ]
     },
     "execution_count": 3,
     "metadata": {},
     "output_type": "execute_result"
    }
   ],
   "source": [
    "books_dir = pathlib.Path('~/surfdrive/Data/PG_en_PS_fiction_050204').expanduser().resolve()\n",
    "books_dir.exists()"
   ]
  },
  {
   "cell_type": "markdown",
   "id": "2ac85fb0",
   "metadata": {},
   "source": [
    "first sift"
   ]
  },
  {
   "cell_type": "code",
   "execution_count": 4,
   "id": "d275fdec",
   "metadata": {},
   "outputs": [
    {
     "name": "stderr",
     "output_type": "stream",
     "text": [
      "8760it [00:06, 1297.70it/s]\n"
     ]
    },
    {
     "data": {
      "text/plain": [
       "1974"
      ]
     },
     "metadata": {},
     "output_type": "display_data"
    }
   ],
   "source": [
    "target_books = []\n",
    "\n",
    "for fp in tqdm(books_dir.glob('*')):\n",
    "    \n",
    "    with open(fp, 'r', encoding='latin1') as f:\n",
    "        book_txt = f.read()\n",
    "        \n",
    "    if ' negro' in book_txt:\n",
    "        target_books.append(fp)\n",
    "        \n",
    "display(len(target_books))"
   ]
  },
  {
   "cell_type": "code",
   "execution_count": 5,
   "id": "cbf47b2e",
   "metadata": {},
   "outputs": [
    {
     "name": "stdout",
     "output_type": "stream",
     "text": [
      "[PosixPath('/Users/ryanbrate/surfdrive/Data/PG_en_PS_fiction_050204/13514.txt'), PosixPath('/Users/ryanbrate/surfdrive/Data/PG_en_PS_fiction_050204/8711.txt'), PosixPath('/Users/ryanbrate/surfdrive/Data/PG_en_PS_fiction_050204/15603.txt'), PosixPath('/Users/ryanbrate/surfdrive/Data/PG_en_PS_fiction_050204/34801.txt'), PosixPath('/Users/ryanbrate/surfdrive/Data/PG_en_PS_fiction_050204/6072.txt')]\n"
     ]
    }
   ],
   "source": [
    "print(str(target_books[:5]))"
   ]
  },
  {
   "cell_type": "markdown",
   "id": "ce102fb3",
   "metadata": {},
   "source": [
    "## yield (file id, quote, manner, speaker) via spaCy dep parse and pos tags"
   ]
  },
  {
   "cell_type": "code",
   "execution_count": 6,
   "id": "8601a9ef",
   "metadata": {},
   "outputs": [
    {
     "name": "stdout",
     "output_type": "stream",
     "text": [
      "True False\n"
     ]
    }
   ],
   "source": [
    "def between(x,t):\n",
    "    lower, upper = t\n",
    "    if x >= lower and x <= upper:\n",
    "        return True\n",
    "    else:\n",
    "        return False\n",
    "        \n",
    "print(between(3, (1,5)), between(7, (1,5)))"
   ]
  },
  {
   "cell_type": "markdown",
   "id": "bf918fef-c6a1-46f7-b783-788fb23673c6",
   "metadata": {},
   "source": [
    "let's keep it simple ...\n",
    "\n",
    "    * replace quotations with e.g., 'oh' ... to remove parser complexity\n",
    "    * assume that each consecutive pair of quote marks, subtend a quotation\n",
    "    * where subtending quote marks share a VERB head, that VERB is assumed the to be the manner of speaking the quote\n",
    "    * where one of the above VERBs is modified by dobj or nsubj, then we assume the speaker"
   ]
  },
  {
   "cell_type": "code",
   "execution_count": 1,
   "id": "91c61da6-22a4-4abd-b873-6dbf8a56c95a",
   "metadata": {},
   "outputs": [
    {
     "ename": "NameError",
     "evalue": "name 're' is not defined",
     "output_type": "error",
     "traceback": [
      "\u001b[0;31m---------------------------------------------------------------------------\u001b[0m",
      "\u001b[0;31mNameError\u001b[0m                                 Traceback (most recent call last)",
      "Cell \u001b[0;32mIn[1], line 72\u001b[0m\n\u001b[1;32m     69\u001b[0m             \u001b[38;5;28;01myield\u001b[39;00m t\n\u001b[1;32m     71\u001b[0m input_ \u001b[38;5;241m=\u001b[39m \u001b[38;5;124m'\u001b[39m\u001b[38;5;124m\"\u001b[39m\u001b[38;5;124mtoday seems nice\u001b[39m\u001b[38;5;124m\"\u001b[39m\u001b[38;5;124m, said Tom\u001b[39m\u001b[38;5;124m'\u001b[39m\n\u001b[0;32m---> 72\u001b[0m \u001b[38;5;28;43mlist\u001b[39;49m\u001b[43m(\u001b[49m\u001b[43myield_type1\u001b[49m\u001b[43m(\u001b[49m\u001b[43minput_\u001b[49m\u001b[43m)\u001b[49m\u001b[43m)\u001b[49m\n",
      "Cell \u001b[0;32mIn[1], line 7\u001b[0m, in \u001b[0;36myield_type1\u001b[0;34m(text, replacement, graph)\u001b[0m\n\u001b[1;32m      4\u001b[0m \u001b[38;5;28;01mdef\u001b[39;00m \u001b[38;5;21myield_type1\u001b[39m(text:\u001b[38;5;28mstr\u001b[39m, replacement\u001b[38;5;241m=\u001b[39m\u001b[38;5;124m'\u001b[39m\u001b[38;5;124m\"\u001b[39m\u001b[38;5;124m#\u001b[39m\u001b[38;5;124m\"\u001b[39m\u001b[38;5;124m'\u001b[39m, graph \u001b[38;5;241m=\u001b[39m \u001b[38;5;28;01mFalse\u001b[39;00m):\n\u001b[1;32m      5\u001b[0m \n\u001b[1;32m      6\u001b[0m     \u001b[38;5;66;03m# chunk into quotes and text-in-between-quotes\u001b[39;00m\n\u001b[0;32m----> 7\u001b[0m     chunks \u001b[38;5;241m=\u001b[39m [chunk \u001b[38;5;28;01mfor\u001b[39;00m chunk \u001b[38;5;129;01min\u001b[39;00m \u001b[43mre\u001b[49m\u001b[38;5;241m.\u001b[39msplit(\u001b[38;5;124mr\u001b[39m\u001b[38;5;124m'\u001b[39m\u001b[38;5;124m(\u001b[39m\u001b[38;5;124m\"\u001b[39m\u001b[38;5;124m.*?\u001b[39m\u001b[38;5;124m\"\u001b[39m\u001b[38;5;124m)|(“.*?”)\u001b[39m\u001b[38;5;124m'\u001b[39m, text) \u001b[38;5;28;01mif\u001b[39;00m chunk]\n\u001b[1;32m      8\u001b[0m     \u001b[38;5;66;03m# print('chunks', chunks)\u001b[39;00m\n\u001b[1;32m      9\u001b[0m \n\u001b[1;32m     10\u001b[0m     \u001b[38;5;66;03m# get the quotes only\u001b[39;00m\n\u001b[1;32m     11\u001b[0m     quotes \u001b[38;5;241m=\u001b[39m [mo\u001b[38;5;241m.\u001b[39mgroup(\u001b[38;5;241m0\u001b[39m) \u001b[38;5;28;01mfor\u001b[39;00m mo \u001b[38;5;129;01min\u001b[39;00m re\u001b[38;5;241m.\u001b[39mfinditer(\u001b[38;5;124mr\u001b[39m\u001b[38;5;124m'\u001b[39m\u001b[38;5;124m(\u001b[39m\u001b[38;5;124m\"\u001b[39m\u001b[38;5;124m.*?\u001b[39m\u001b[38;5;124m\"\u001b[39m\u001b[38;5;124m)|(“.*?”)\u001b[39m\u001b[38;5;124m'\u001b[39m, text)]\n",
      "\u001b[0;31mNameError\u001b[0m: name 're' is not defined"
     ]
    }
   ],
   "source": [
    "def count_quotes(chunk):\n",
    "    return chunk.count('\"') + chunk.count('“') + chunk.count('”')\n",
    "\n",
    "def yield_type1(text:str, replacement='\"#\"', graph = False):\n",
    "\n",
    "    # chunk into quotes and text-in-between-quotes\n",
    "    chunks = [chunk for chunk in re.split(r'(\".*?\")|(“.*?”)', text) if chunk]\n",
    "    # print('chunks', chunks)\n",
    "\n",
    "    # get the quotes only\n",
    "    quotes = [mo.group(0) for mo in re.finditer(r'(\".*?\")|(“.*?”)', text)]\n",
    "    # print('quotes', quotes)\n",
    "\n",
    "    # get counts of quotes in each chunk\n",
    "    quote_counts = [count_quotes(chunk) for chunk in chunks]\n",
    "    # print('quote counts in chunks', quote_counts)\n",
    "\n",
    "    # ensure where a quotations mark occurs, it does so in pairs\n",
    "    if all([True if (count == 0 or count == 2) else False for count in quote_counts]):\n",
    "\n",
    "        # build a chunks version with the quotes replaced with replacement\n",
    "        if replacement == '':\n",
    "            chunks_ = chunks\n",
    "        else:\n",
    "            chunks_ = [chunk if quote_count == 0 else replacement for chunk, quote_count in zip(chunks, quote_counts)]\n",
    "\n",
    "        # build a text version with quotes replaced\n",
    "        text_ = \"\".join(chunks_)\n",
    "        # print('text_', text_)\n",
    "\n",
    "        # text as a list of tokens and their properties\n",
    "        doc = nlp(text_)\n",
    "        if graph:\n",
    "            displacy.render(doc, style=\"dep\", jupyter=True)\n",
    "        \n",
    "        tokens = {token.i: {'text':token.text, 'modifiers':list([m.i for m in token.children]), 'pos':token.pos_, 'head':token.head.i, 'dep':token.dep_, 'idx':token.idx} for token in doc}\n",
    "        # print('tokens', tokens)\n",
    "        \n",
    "                # list of indices which are opening quotation marks\n",
    "        marks_i = [i for i, d in tokens.items() if d['text']=='\"' or d['text']=='“' or d['text']=='”']\n",
    "        # print('marks', marks_i)\n",
    "        opening_marks_i = [marks_i[x] for x in range(0,len(marks_i),2)]\n",
    "        # print('opening quotation marks', opening_marks_i)\n",
    "        \n",
    "        # list of indices which are verbs\n",
    "        verbs_i = [i for i, d in tokens.items() if d['pos']==\"VERB\"]\n",
    "        # print('verbs', verbs_i)\n",
    "\n",
    "        # build a list of (quote, manner, speaker)\n",
    "        extracts = []\n",
    "        for r, o in enumerate(opening_marks_i):\n",
    "            \n",
    "            o_matched = False\n",
    "            \n",
    "            # find a verb which is modified by the opening quotation ...\n",
    "            for v in verbs_i:\n",
    "                if o in tokens[v]['modifiers']:\n",
    "                    # for that verb, find a corresponding speaker, i.e., subj or dobj which modifies the verb\n",
    "                    for m in tokens[v]['modifiers']:\n",
    "                        if tokens[m]['dep']==\"dobj\" or tokens[m]['dep']==\"nsubj\":\n",
    "                            extracts.append((quotes[r], tokens[v]['text'], tokens[m]['text']))\n",
    "                            o_matched = True\n",
    "\n",
    "            if o_matched == False:\n",
    "                extracts.append((quotes[r], None, None))\n",
    "\n",
    "        # yield\n",
    "        for t in extracts:\n",
    "            yield t\n",
    "\n",
    "input_ = '\"today seems nice\", said Tom'\n",
    "list(yield_type1(input_))\n",
    "        "
   ]
  },
  {
   "cell_type": "code",
   "execution_count": 9,
   "id": "5dc17f60-07cf-4bb5-84cc-f8b16a73c7a4",
   "metadata": {},
   "outputs": [
    {
     "data": {
      "text/plain": [
       "[('“What you doin’ with this gun?”', 'says', 'He'),\n",
       " ('“Somebody tried to get in, so I was laying for him.”', 'says', 'I'),\n",
       " ('“Why didn’t you roust me out?”', None, None),\n",
       " ('“Well, I tried to, but I couldn’t; I couldn’t budge you.”', None, None)]"
      ]
     },
     "execution_count": 9,
     "metadata": {},
     "output_type": "execute_result"
    }
   ],
   "source": [
    "# multi-line dialogue ... \n",
    "input_ = \"\"\"\n",
    "He says:\n",
    "\n",
    "“What you doin’ with this gun?”\n",
    "\n",
    "I judged he didn’t know nothing about what he had been doing, so I says:\n",
    "\n",
    "“Somebody tried to get in, so I was laying for him.”\n",
    "\n",
    "“Why didn’t you roust me out?”\n",
    "\n",
    "“Well, I tried to, but I couldn’t; I couldn’t budge you.” \n",
    "\"\"\"\n",
    "list(yield_type1(input_))"
   ]
  },
  {
   "cell_type": "code",
   "execution_count": 11,
   "id": "83dc78d9",
   "metadata": {},
   "outputs": [
    {
     "data": {
      "text/html": [
       "<span class=\"tex2jax_ignore\"><svg xmlns=\"http://www.w3.org/2000/svg\" xmlns:xlink=\"http://www.w3.org/1999/xlink\" xml:lang=\"en\" id=\"e8bb65a41d8641c3958fcb42b782c62d-0\" class=\"displacy\" width=\"1100\" height=\"312.0\" direction=\"ltr\" style=\"max-width: none; height: 312.0px; color: #000000; background: #ffffff; font-family: Arial; direction: ltr\">\n",
       "<text class=\"displacy-token\" fill=\"currentColor\" text-anchor=\"middle\" y=\"222.0\">\n",
       "    <tspan class=\"displacy-word\" fill=\"currentColor\" x=\"50\">&quot;</tspan>\n",
       "    <tspan class=\"displacy-tag\" dy=\"2em\" fill=\"currentColor\" x=\"50\">PUNCT</tspan>\n",
       "</text>\n",
       "\n",
       "<text class=\"displacy-token\" fill=\"currentColor\" text-anchor=\"middle\" y=\"222.0\">\n",
       "    <tspan class=\"displacy-word\" fill=\"currentColor\" x=\"225\">oh&quot;</tspan>\n",
       "    <tspan class=\"displacy-tag\" dy=\"2em\" fill=\"currentColor\" x=\"225\">INTJ</tspan>\n",
       "</text>\n",
       "\n",
       "<text class=\"displacy-token\" fill=\"currentColor\" text-anchor=\"middle\" y=\"222.0\">\n",
       "    <tspan class=\"displacy-word\" fill=\"currentColor\" x=\"400\">said</tspan>\n",
       "    <tspan class=\"displacy-tag\" dy=\"2em\" fill=\"currentColor\" x=\"400\">VERB</tspan>\n",
       "</text>\n",
       "\n",
       "<text class=\"displacy-token\" fill=\"currentColor\" text-anchor=\"middle\" y=\"222.0\">\n",
       "    <tspan class=\"displacy-word\" fill=\"currentColor\" x=\"575\">Tom</tspan>\n",
       "    <tspan class=\"displacy-tag\" dy=\"2em\" fill=\"currentColor\" x=\"575\">PROPN</tspan>\n",
       "</text>\n",
       "\n",
       "<text class=\"displacy-token\" fill=\"currentColor\" text-anchor=\"middle\" y=\"222.0\">\n",
       "    <tspan class=\"displacy-word\" fill=\"currentColor\" x=\"750\">and</tspan>\n",
       "    <tspan class=\"displacy-tag\" dy=\"2em\" fill=\"currentColor\" x=\"750\">CCONJ</tspan>\n",
       "</text>\n",
       "\n",
       "<text class=\"displacy-token\" fill=\"currentColor\" text-anchor=\"middle\" y=\"222.0\">\n",
       "    <tspan class=\"displacy-word\" fill=\"currentColor\" x=\"925\">Dave</tspan>\n",
       "    <tspan class=\"displacy-tag\" dy=\"2em\" fill=\"currentColor\" x=\"925\">PROPN</tspan>\n",
       "</text>\n",
       "\n",
       "<g class=\"displacy-arrow\">\n",
       "    <path class=\"displacy-arc\" id=\"arrow-e8bb65a41d8641c3958fcb42b782c62d-0-0\" stroke-width=\"2px\" d=\"M70,177.0 C70,2.0 400.0,2.0 400.0,177.0\" fill=\"none\" stroke=\"currentColor\"/>\n",
       "    <text dy=\"1.25em\" style=\"font-size: 0.8em; letter-spacing: 1px\">\n",
       "        <textPath xlink:href=\"#arrow-e8bb65a41d8641c3958fcb42b782c62d-0-0\" class=\"displacy-label\" startOffset=\"50%\" side=\"left\" fill=\"currentColor\" text-anchor=\"middle\">punct</textPath>\n",
       "    </text>\n",
       "    <path class=\"displacy-arrowhead\" d=\"M70,179.0 L62,167.0 78,167.0\" fill=\"currentColor\"/>\n",
       "</g>\n",
       "\n",
       "<g class=\"displacy-arrow\">\n",
       "    <path class=\"displacy-arc\" id=\"arrow-e8bb65a41d8641c3958fcb42b782c62d-0-1\" stroke-width=\"2px\" d=\"M245,177.0 C245,89.5 395.0,89.5 395.0,177.0\" fill=\"none\" stroke=\"currentColor\"/>\n",
       "    <text dy=\"1.25em\" style=\"font-size: 0.8em; letter-spacing: 1px\">\n",
       "        <textPath xlink:href=\"#arrow-e8bb65a41d8641c3958fcb42b782c62d-0-1\" class=\"displacy-label\" startOffset=\"50%\" side=\"left\" fill=\"currentColor\" text-anchor=\"middle\">intj</textPath>\n",
       "    </text>\n",
       "    <path class=\"displacy-arrowhead\" d=\"M245,179.0 L237,167.0 253,167.0\" fill=\"currentColor\"/>\n",
       "</g>\n",
       "\n",
       "<g class=\"displacy-arrow\">\n",
       "    <path class=\"displacy-arc\" id=\"arrow-e8bb65a41d8641c3958fcb42b782c62d-0-2\" stroke-width=\"2px\" d=\"M420,177.0 C420,89.5 570.0,89.5 570.0,177.0\" fill=\"none\" stroke=\"currentColor\"/>\n",
       "    <text dy=\"1.25em\" style=\"font-size: 0.8em; letter-spacing: 1px\">\n",
       "        <textPath xlink:href=\"#arrow-e8bb65a41d8641c3958fcb42b782c62d-0-2\" class=\"displacy-label\" startOffset=\"50%\" side=\"left\" fill=\"currentColor\" text-anchor=\"middle\">nsubj</textPath>\n",
       "    </text>\n",
       "    <path class=\"displacy-arrowhead\" d=\"M570.0,179.0 L578.0,167.0 562.0,167.0\" fill=\"currentColor\"/>\n",
       "</g>\n",
       "\n",
       "<g class=\"displacy-arrow\">\n",
       "    <path class=\"displacy-arc\" id=\"arrow-e8bb65a41d8641c3958fcb42b782c62d-0-3\" stroke-width=\"2px\" d=\"M595,177.0 C595,89.5 745.0,89.5 745.0,177.0\" fill=\"none\" stroke=\"currentColor\"/>\n",
       "    <text dy=\"1.25em\" style=\"font-size: 0.8em; letter-spacing: 1px\">\n",
       "        <textPath xlink:href=\"#arrow-e8bb65a41d8641c3958fcb42b782c62d-0-3\" class=\"displacy-label\" startOffset=\"50%\" side=\"left\" fill=\"currentColor\" text-anchor=\"middle\">cc</textPath>\n",
       "    </text>\n",
       "    <path class=\"displacy-arrowhead\" d=\"M745.0,179.0 L753.0,167.0 737.0,167.0\" fill=\"currentColor\"/>\n",
       "</g>\n",
       "\n",
       "<g class=\"displacy-arrow\">\n",
       "    <path class=\"displacy-arc\" id=\"arrow-e8bb65a41d8641c3958fcb42b782c62d-0-4\" stroke-width=\"2px\" d=\"M595,177.0 C595,2.0 925.0,2.0 925.0,177.0\" fill=\"none\" stroke=\"currentColor\"/>\n",
       "    <text dy=\"1.25em\" style=\"font-size: 0.8em; letter-spacing: 1px\">\n",
       "        <textPath xlink:href=\"#arrow-e8bb65a41d8641c3958fcb42b782c62d-0-4\" class=\"displacy-label\" startOffset=\"50%\" side=\"left\" fill=\"currentColor\" text-anchor=\"middle\">conj</textPath>\n",
       "    </text>\n",
       "    <path class=\"displacy-arrowhead\" d=\"M925.0,179.0 L933.0,167.0 917.0,167.0\" fill=\"currentColor\"/>\n",
       "</g>\n",
       "</svg></span>"
      ],
      "text/plain": [
       "<IPython.core.display.HTML object>"
      ]
     },
     "metadata": {},
     "output_type": "display_data"
    },
    {
     "data": {
      "text/plain": [
       "[('\"oh,\"', 'said', 'Tom')]"
      ]
     },
     "execution_count": 11,
     "metadata": {},
     "output_type": "execute_result"
    }
   ],
   "source": [
    "# Note: doesn't pick up on conjuction wrt., multiple speakers ... this is fine ... we aren't targetting this\n",
    "input_ = '\"oh,\" said Tom and Dave'\n",
    "list(yield_type1(input_, graph=True))"
   ]
  },
  {
   "cell_type": "markdown",
   "id": "a4881b58",
   "metadata": {},
   "source": [
    "## test cases"
   ]
  },
  {
   "cell_type": "code",
   "execution_count": 12,
   "id": "bcd7e8b8",
   "metadata": {},
   "outputs": [
    {
     "name": "stdout",
     "output_type": "stream",
     "text": [
      "\trun test cases\n",
      "\ttests successful\n"
     ]
    }
   ],
   "source": [
    "test_cases = [\n",
    "    # direct dialogue\n",
    "    (\n",
    "        yield_type1, \n",
    "        '\"blah,\" said the Mr. Tom Jones to Dave', \n",
    "        [('\"blah,\"', \"said\", \"Jones\")]\n",
    "    ),\n",
    "    (\n",
    "        yield_type1, \n",
    "        '\"blah,\" Prof. James E. Jones said to Dave',\n",
    "        [('\"blah,\"', \"said\", \"Jones\")],\n",
    "    ),\n",
    "    (\n",
    "        yield_type1, \n",
    "        '\"blah,\" said Tom Liam Smith to Dave',\n",
    "        [('\"blah,\"', \"said\", \"Smith\")],\n",
    "    ),\n",
    "    (\n",
    "        yield_type1, \n",
    "        '\"blah,\" said J.F.K. about Dave',\n",
    "        [('\"blah,\"', \"said\",  \"J.F.K.\")],\n",
    "    ),\n",
    "    (\n",
    "        yield_type1, \n",
    "        '\"blah,\" said the nurse to Dave', \n",
    "        [('\"blah,\"', \"said\", \"nurse\")]\n",
    "    ),\n",
    "    (\n",
    "        yield_type1, \n",
    "        'Tom Smith shouts \"blah\", over the state of the Union',\n",
    "        [('\"blah\"', \"shouts\", \"Smith\")],\n",
    "    ),\n",
    "    (\n",
    "        yield_type1, \n",
    "        'Tom S. Smith said to Dave, \"blah\"',\n",
    "        [('\"blah\"', \"said\", \"Smith\")],\n",
    "    ),\n",
    "    (\n",
    "        yield_type1, \n",
    "        'the nurse said \"blah\" to Dave', \n",
    "        [('\"blah\"', \"said\", \"nurse\")],\n",
    "    ),\n",
    "    (\n",
    "        yield_type1, \n",
    "        'the nurse said excitedly, \"blah\"',\n",
    "        [('\"blah\"', \"said\", \"nurse\")],\n",
    "    ),\n",
    "    # split dialogue\n",
    "    (\n",
    "        yield_type1, \n",
    "        '\"blah,\" said the very able nurse about Tom, \"I don\\'t like him\"',\n",
    "        [('\"blah,\"', \"said\", \"nurse\"), ('\"I don\\'t like him\"', \"said\", \"nurse\")],\n",
    "    ),\n",
    "    (\n",
    "        yield_type1, \n",
    "        '\"if we are not quick\", she replied, \"we will be late\"',\n",
    "        [('\"if we are not quick\"', \"replied\", \"she\"), ('\"we will be late\"', \"replied\", \"she\")],\n",
    "    ),\n",
    "    # \n",
    "]\n",
    "\n",
    "# run test cases on import\n",
    "print(\"\\trun test cases\")\n",
    "for i, (f, input_, expected) in enumerate(test_cases, start=1):\n",
    "    \n",
    "    out = list(f(input_))\n",
    "   \n",
    "    for e in expected:\n",
    "        assert e in out, f\"test case {i}: expected {e}, found {out}\"\n",
    "        \n",
    "print(\"\\ttests successful\")\n"
   ]
  },
  {
   "cell_type": "markdown",
   "id": "371998e3",
   "metadata": {},
   "source": [
    "## get the quotatations\n",
    "\n",
    "A large disparity hints at an oversight"
   ]
  },
  {
   "cell_type": "code",
   "execution_count": 13,
   "id": "3c4a4691",
   "metadata": {},
   "outputs": [],
   "source": [
    "dictionary_fp = pathlib.Path(\"../dictionaries/english.txt\")\n",
    "with open(dictionary_fp, 'r') as f:\n",
    "    dictionary = set([line.strip('\\n') for line in f.readlines()])\n",
    "# display(str(dictionary))"
   ]
  },
  {
   "cell_type": "code",
   "execution_count": 14,
   "id": "9ddfe8bf",
   "metadata": {},
   "outputs": [],
   "source": [
    "def gen_paragraphs(fp: pathlib.Path, *, dictionary: set[str]) -> typing.Generator:\n",
    "    \"\"\"Return a generator of paragraph strings for book at fp.\n",
    "\n",
    "    Note: dictionary is used to help resolve hyphenatic split words due to formatting\n",
    "    Note: paragraphs assumed as separated by '\\n\\n'\n",
    "    Note: paragraphs cleaned up, removing \\n is a way sentitive to hyphens\n",
    "    \"\"\"\n",
    "\n",
    "    # open the doc\n",
    "    # As per https://python-notes.curiousefficiency.org/en/latest/python3/text_file_processing.html,\n",
    "    # latin-1 encoding is an acceptable best approach if in doubt of encoding, and is close to the python3 permissible model.\n",
    "    with open(fp, \"r\", encoding=\"latin-1\") as f:\n",
    "        doc = f.read()\n",
    "\n",
    "    # ignore the extraneous PG text, take only the book\n",
    "    match = re.search(\n",
    "        r\"\\*\\*\\*\\s*START OF.+?\\*\\*\\*(.+)\\*\\*\\*\\s*END OF\",\n",
    "        doc,\n",
    "        flags=re.DOTALL,\n",
    "    )\n",
    "\n",
    "    if match:\n",
    "\n",
    "        # true book text\n",
    "        doc = match.groups()[0]\n",
    "\n",
    "        # split into presumed paragraphs\n",
    "        paragraphs = re.split(\"\\n\\n\\n*\", doc)\n",
    "\n",
    "        # remove empty paragraphs\n",
    "        paragraphs = [p for p in paragraphs if len(p) != 0]\n",
    "\n",
    "        # remove newlines (sensitively)\n",
    "        pattern_split = re.compile(r\"([a-zA-Z']+)-\\s*\\n\\s*([a-zA-Z']+)\")\n",
    "        for i, paragraph in enumerate(paragraphs):\n",
    "\n",
    "            # remove newlines adjacent to hyphenated words\n",
    "            for x, y in set(re.findall(pattern_split, paragraph)):\n",
    "\n",
    "                try:\n",
    "                    if x + y in dictionary:\n",
    "                        paragraph = re.sub(rf\"{x}-\\s*\\n\\s*{y}\", f\"{x}{y}\", paragraph)\n",
    "                    else:\n",
    "                        paragraph = re.sub(rf\"{x}-\\s*\\n\\s*{y}\", f\"{x}-{y}\", paragraph)\n",
    "                except:\n",
    "                    pass\n",
    "\n",
    "            # remove other newline cases\n",
    "            paragraph = re.sub(r\"\\s*\\n\\s*\", r\" \", paragraph)\n",
    "\n",
    "            # strip start and end whitespace\n",
    "            paragraph = paragraph.strip()\n",
    "\n",
    "            # re-add amended to paragraph container\n",
    "            paragraphs[i] = paragraph\n",
    "\n",
    "        # yield\n",
    "        for paragraph in paragraphs:\n",
    "            yield paragraph\n",
    "\n",
    "    else:\n",
    "\n",
    "        return\n",
    "        yield\n",
    "        "
   ]
  },
  {
   "cell_type": "markdown",
   "id": "9802e3b3",
   "metadata": {},
   "source": [
    "get list of (fp, quote_count, patterns[:-1] match count ) for all books"
   ]
  },
  {
   "cell_type": "code",
   "execution_count": 15,
   "id": "16811f13",
   "metadata": {},
   "outputs": [
    {
     "name": "stderr",
     "output_type": "stream",
     "text": [
      "  0%|                                        | 2/1974 [00:04<1:06:45,  2.03s/it]\n"
     ]
    },
    {
     "ename": "KeyboardInterrupt",
     "evalue": "",
     "output_type": "error",
     "traceback": [
      "\u001b[0;31m---------------------------------------------------------------------------\u001b[0m",
      "\u001b[0;31mKeyboardInterrupt\u001b[0m                         Traceback (most recent call last)",
      "File \u001b[0;32m<timed exec>:13\u001b[0m\n",
      "Cell \u001b[0;32mIn[8], line 32\u001b[0m, in \u001b[0;36myield_type1\u001b[0;34m(text, replacement, graph)\u001b[0m\n\u001b[1;32m     28\u001b[0m text_ \u001b[38;5;241m=\u001b[39m \u001b[38;5;124m\"\u001b[39m\u001b[38;5;124m\"\u001b[39m\u001b[38;5;241m.\u001b[39mjoin(chunks_)\n\u001b[1;32m     29\u001b[0m \u001b[38;5;66;03m# print('text_', text_)\u001b[39;00m\n\u001b[1;32m     30\u001b[0m \n\u001b[1;32m     31\u001b[0m \u001b[38;5;66;03m# text as a list of tokens and their properties\u001b[39;00m\n\u001b[0;32m---> 32\u001b[0m doc \u001b[38;5;241m=\u001b[39m \u001b[43mnlp\u001b[49m\u001b[43m(\u001b[49m\u001b[43mtext_\u001b[49m\u001b[43m)\u001b[49m\n\u001b[1;32m     33\u001b[0m \u001b[38;5;28;01mif\u001b[39;00m graph:\n\u001b[1;32m     34\u001b[0m     displacy\u001b[38;5;241m.\u001b[39mrender(doc, style\u001b[38;5;241m=\u001b[39m\u001b[38;5;124m\"\u001b[39m\u001b[38;5;124mdep\u001b[39m\u001b[38;5;124m\"\u001b[39m, jupyter\u001b[38;5;241m=\u001b[39m\u001b[38;5;28;01mTrue\u001b[39;00m)\n",
      "File \u001b[0;32m~/miniconda3/envs/mexico/lib/python3.10/site-packages/spacy/language.py:1049\u001b[0m, in \u001b[0;36mLanguage.__call__\u001b[0;34m(self, text, disable, component_cfg)\u001b[0m\n\u001b[1;32m   1047\u001b[0m     error_handler \u001b[38;5;241m=\u001b[39m proc\u001b[38;5;241m.\u001b[39mget_error_handler()\n\u001b[1;32m   1048\u001b[0m \u001b[38;5;28;01mtry\u001b[39;00m:\n\u001b[0;32m-> 1049\u001b[0m     doc \u001b[38;5;241m=\u001b[39m \u001b[43mproc\u001b[49m\u001b[43m(\u001b[49m\u001b[43mdoc\u001b[49m\u001b[43m,\u001b[49m\u001b[43m \u001b[49m\u001b[38;5;241;43m*\u001b[39;49m\u001b[38;5;241;43m*\u001b[39;49m\u001b[43mcomponent_cfg\u001b[49m\u001b[38;5;241;43m.\u001b[39;49m\u001b[43mget\u001b[49m\u001b[43m(\u001b[49m\u001b[43mname\u001b[49m\u001b[43m,\u001b[49m\u001b[43m \u001b[49m\u001b[43m{\u001b[49m\u001b[43m}\u001b[49m\u001b[43m)\u001b[49m\u001b[43m)\u001b[49m  \u001b[38;5;66;03m# type: ignore[call-arg]\u001b[39;00m\n\u001b[1;32m   1050\u001b[0m \u001b[38;5;28;01mexcept\u001b[39;00m \u001b[38;5;167;01mKeyError\u001b[39;00m \u001b[38;5;28;01mas\u001b[39;00m e:\n\u001b[1;32m   1051\u001b[0m     \u001b[38;5;66;03m# This typically happens if a component is not initialized\u001b[39;00m\n\u001b[1;32m   1052\u001b[0m     \u001b[38;5;28;01mraise\u001b[39;00m \u001b[38;5;167;01mValueError\u001b[39;00m(Errors\u001b[38;5;241m.\u001b[39mE109\u001b[38;5;241m.\u001b[39mformat(name\u001b[38;5;241m=\u001b[39mname)) \u001b[38;5;28;01mfrom\u001b[39;00m \u001b[38;5;21;01me\u001b[39;00m\n",
      "File \u001b[0;32m~/miniconda3/envs/mexico/lib/python3.10/site-packages/spacy/pipeline/attributeruler.py:142\u001b[0m, in \u001b[0;36mAttributeRuler.__call__\u001b[0;34m(self, doc)\u001b[0m\n\u001b[1;32m    140\u001b[0m error_handler \u001b[38;5;241m=\u001b[39m \u001b[38;5;28mself\u001b[39m\u001b[38;5;241m.\u001b[39mget_error_handler()\n\u001b[1;32m    141\u001b[0m \u001b[38;5;28;01mtry\u001b[39;00m:\n\u001b[0;32m--> 142\u001b[0m     matches \u001b[38;5;241m=\u001b[39m \u001b[38;5;28;43mself\u001b[39;49m\u001b[38;5;241;43m.\u001b[39;49m\u001b[43mmatch\u001b[49m\u001b[43m(\u001b[49m\u001b[43mdoc\u001b[49m\u001b[43m)\u001b[49m\n\u001b[1;32m    143\u001b[0m     \u001b[38;5;28mself\u001b[39m\u001b[38;5;241m.\u001b[39mset_annotations(doc, matches)\n\u001b[1;32m    144\u001b[0m     \u001b[38;5;28;01mreturn\u001b[39;00m doc\n",
      "File \u001b[0;32m~/miniconda3/envs/mexico/lib/python3.10/site-packages/spacy/pipeline/attributeruler.py:149\u001b[0m, in \u001b[0;36mAttributeRuler.match\u001b[0;34m(self, doc)\u001b[0m\n\u001b[1;32m    148\u001b[0m \u001b[38;5;28;01mdef\u001b[39;00m \u001b[38;5;21mmatch\u001b[39m(\u001b[38;5;28mself\u001b[39m, doc: Doc):\n\u001b[0;32m--> 149\u001b[0m     matches \u001b[38;5;241m=\u001b[39m \u001b[38;5;28;43mself\u001b[39;49m\u001b[38;5;241;43m.\u001b[39;49m\u001b[43mmatcher\u001b[49m\u001b[43m(\u001b[49m\u001b[43mdoc\u001b[49m\u001b[43m,\u001b[49m\u001b[43m \u001b[49m\u001b[43mallow_missing\u001b[49m\u001b[38;5;241;43m=\u001b[39;49m\u001b[38;5;28;43;01mTrue\u001b[39;49;00m\u001b[43m,\u001b[49m\u001b[43m \u001b[49m\u001b[43mas_spans\u001b[49m\u001b[38;5;241;43m=\u001b[39;49m\u001b[38;5;28;43;01mFalse\u001b[39;49;00m\u001b[43m)\u001b[49m\n\u001b[1;32m    150\u001b[0m     \u001b[38;5;66;03m# Sort by the attribute ID, so that later rules have precedence\u001b[39;00m\n\u001b[1;32m    151\u001b[0m     matches \u001b[38;5;241m=\u001b[39m [\n\u001b[1;32m    152\u001b[0m         (\u001b[38;5;28mint\u001b[39m(\u001b[38;5;28mself\u001b[39m\u001b[38;5;241m.\u001b[39mvocab\u001b[38;5;241m.\u001b[39mstrings[m_id]), m_id, s, e) \u001b[38;5;28;01mfor\u001b[39;00m m_id, s, e \u001b[38;5;129;01min\u001b[39;00m matches  \u001b[38;5;66;03m# type: ignore\u001b[39;00m\n\u001b[1;32m    153\u001b[0m     ]\n",
      "\u001b[0;31mKeyboardInterrupt\u001b[0m: "
     ]
    }
   ],
   "source": [
    "%%time\n",
    "# get paragraphs for book_id\n",
    "extracts = []\n",
    "\n",
    "for fp in tqdm(target_books):\n",
    "# for fp in tqdm([pathlib.Path('~/surfdrive/Data/PG_en_PS_fiction_050204/15603.txt').expanduser()]):  \n",
    "    \n",
    "    paragraphs = list(gen_paragraphs(fp, dictionary=dictionary))\n",
    "    \n",
    "    # count extracted quotations\n",
    "    for i, paragraph in enumerate(paragraphs):\n",
    "        \n",
    "        if '\"' in paragraph or '”' in paragraph:\n",
    "            for t in yield_type1(paragraph):\n",
    "                if len(t) > 0:\n",
    "                    extracts.append([str(fp.stem), i, t[0], t[1], t[2]])\n",
    "                    \n",
    "    with open(\"quotes.json\", \"w\") as f:\n",
    "        json.dump(extracts, f)\n",
    "    "
   ]
  },
  {
   "cell_type": "markdown",
   "id": "db4282d3",
   "metadata": {},
   "source": [
    "## Quick overview of extracted quotes"
   ]
  },
  {
   "cell_type": "markdown",
   "id": "00bfab1f",
   "metadata": {},
   "source": [
    "load"
   ]
  },
  {
   "cell_type": "code",
   "execution_count": 7,
   "id": "2f20afc9",
   "metadata": {},
   "outputs": [],
   "source": [
    "with open('quotes_5Jul/quotes_5Jul.json', 'r') as f:\n",
    "    quotes = np.array(json.load(f))"
   ]
  },
  {
   "cell_type": "markdown",
   "id": "9dc236b3",
   "metadata": {},
   "source": [
    "overview"
   ]
  },
  {
   "cell_type": "code",
   "execution_count": 8,
   "id": "a08d38bb",
   "metadata": {},
   "outputs": [
    {
     "data": {
      "text/plain": [
       "2379115"
      ]
     },
     "execution_count": 8,
     "metadata": {},
     "output_type": "execute_result"
    }
   ],
   "source": [
    "len(quotes)"
   ]
  },
  {
   "cell_type": "code",
   "execution_count": 9,
   "id": "6622b6ef",
   "metadata": {},
   "outputs": [
    {
     "data": {
      "text/plain": [
       "array([['47385', 266, '\"My sweetheart! I\\'m so sorry for the pain.\"',\n",
       "        None, None],\n",
       "       ['47385', 268, '\"Jack,\"', 'said', 'she'],\n",
       "       ['47385', 268, '\"you do love me, don\\'t you?\"', 'said', 'she'],\n",
       "       ['47385', 269,\n",
       "        '\"My darling, I love you better than anything in the world. You are the dearest little woman I ever saw. It isn\\'t much of a heart, dear, but you\\'ve got it all. Crying? Why, what is it, sweetheart?\"',\n",
       "        None, None],\n",
       "       ['47385', 270, '\"The baby,\"', 'answered', 'she'],\n",
       "       ['47385', 271,\n",
       "        '\"Dorothy, dearest, you know that was best. He wasn\\'t like--\"',\n",
       "        'say', 'Jack'],\n",
       "       ['47385', 271,\n",
       "        '\"Dorothy, dearest, you know that was best. He wasn\\'t like--\"',\n",
       "        'say', 'words'],\n",
       "       ['47385', 275, '\"the den\"', None, None],\n",
       "       ['47385', 278, '\"Come,\"', 'called', 'she'],\n",
       "       ['47385', 279, '\"Oh, it\\'s you,\"', 'cried', 'she']], dtype=object)"
      ]
     },
     "execution_count": 9,
     "metadata": {},
     "output_type": "execute_result"
    }
   ],
   "source": [
    "# what do the quotes look like?\n",
    "quotes[110000:110010]"
   ]
  },
  {
   "cell_type": "code",
   "execution_count": 10,
   "id": "e2d90bbf",
   "metadata": {},
   "outputs": [
    {
     "data": {
      "text/plain": [
       "1517"
      ]
     },
     "execution_count": 10,
     "metadata": {},
     "output_type": "execute_result"
    }
   ],
   "source": [
    "# how many books in the quotations set?\n",
    "len(set([id_ for id_, _, _, _, _ in quotes]))"
   ]
  },
  {
   "cell_type": "markdown",
   "id": "c128cd2f-9507-42db-af42-0ad969e6d670",
   "metadata": {},
   "source": [
    "## Identify problematic spans (i.e., > 1024 tokens wrt., gpt-2)"
   ]
  },
  {
   "cell_type": "code",
   "execution_count": 12,
   "id": "6075f1ad-01ef-4f4b-9161-90b3eb774023",
   "metadata": {},
   "outputs": [],
   "source": [
    "import torch\n",
    "import torch.nn.functional as F\n",
    "from transformers import GPT2LMHeadModel, GPT2Tokenizer"
   ]
  },
  {
   "cell_type": "code",
   "execution_count": 13,
   "id": "db1b822f-a06e-4473-9924-75fa73af5051",
   "metadata": {},
   "outputs": [],
   "source": [
    "model = GPT2LMHeadModel.from_pretrained('gpt2')\n",
    "tokenizer = GPT2Tokenizer.from_pretrained('gpt2')"
   ]
  },
  {
   "cell_type": "code",
   "execution_count": null,
   "id": "391bfeba-44d4-4b20-8725-9863f7363aea",
   "metadata": {},
   "outputs": [
    {
     "name": "stderr",
     "output_type": "stream",
     "text": [
      "\n",
      "  0%|                                               | 0/2379115 [00:00<?, ?it/s]\u001b[A\n",
      "  0%|                                   | 793/2379115 [00:00<05:00, 7906.28it/s]\u001b[A\n",
      "  0%|                                 | 1972/2379115 [00:00<03:53, 10187.52it/s]\u001b[A\n",
      "  0%|                                 | 3321/2379115 [00:00<03:23, 11691.84it/s]\u001b[A\n",
      "  0%|                                 | 4733/2379115 [00:00<03:07, 12644.13it/s]\u001b[A\n",
      "  0%|                                 | 6244/2379115 [00:00<02:55, 13530.95it/s]\u001b[A\n",
      "  0%|                                 | 7640/2379115 [00:00<02:53, 13674.61it/s]\u001b[A\n",
      "  0%|▏                                | 9449/2379115 [00:00<02:36, 15116.28it/s]\u001b[A\n",
      "  0%|▏                               | 11184/2379115 [00:00<02:29, 15826.27it/s]\u001b[A\n",
      "  1%|▏                               | 12924/2379115 [00:00<02:25, 16314.84it/s]\u001b[A\n",
      "  1%|▏                               | 14556/2379115 [00:01<02:27, 15990.13it/s]\u001b[A\n",
      "  1%|▏                               | 16157/2379115 [00:01<02:32, 15534.92it/s]\u001b[A\n",
      "  1%|▏                               | 17714/2379115 [00:01<02:36, 15127.20it/s]\u001b[A\n",
      "  1%|▎                               | 19231/2379115 [00:01<02:55, 13432.89it/s]\u001b[A\n",
      "  1%|▎                               | 20608/2379115 [00:01<02:56, 13348.58it/s]\u001b[A\n",
      "  1%|▎                               | 22102/2379115 [00:01<02:50, 13784.61it/s]\u001b[A\n",
      "  1%|▎                               | 23501/2379115 [00:01<02:50, 13793.60it/s]\u001b[A\n",
      "  1%|▎                               | 24895/2379115 [00:01<03:07, 12524.37it/s]\u001b[A\n",
      "  1%|▎                               | 26177/2379115 [00:01<03:21, 11667.14it/s]\u001b[A\n",
      "  1%|▎                               | 27371/2379115 [00:02<03:26, 11379.05it/s]\u001b[A\n",
      "  1%|▍                               | 28527/2379115 [00:02<03:30, 11191.31it/s]\u001b[A\n",
      "  1%|▍                               | 29657/2379115 [00:02<03:40, 10632.10it/s]\u001b[A\n",
      "  1%|▍                               | 31197/2379115 [00:02<03:17, 11915.42it/s]\u001b[A\n",
      "  1%|▍                               | 32672/2379115 [00:02<03:04, 12701.46it/s]\u001b[A\n",
      "  1%|▍                               | 34174/2379115 [00:02<02:55, 13348.71it/s]\u001b[A\n",
      "  2%|▍                               | 36116/2379115 [00:02<02:35, 15099.41it/s]\u001b[A\n",
      "  2%|▌                               | 38103/2379115 [00:02<02:21, 16488.69it/s]\u001b[A\n",
      "  2%|▌                               | 39770/2379115 [00:02<02:26, 15965.19it/s]\u001b[A\n",
      "  2%|▌                               | 41383/2379115 [00:03<02:31, 15404.88it/s]\u001b[A\n",
      "  2%|▌                               | 43183/2379115 [00:03<02:24, 16132.85it/s]\u001b[A\n",
      "  2%|▌                               | 44810/2379115 [00:03<02:32, 15286.38it/s]\u001b[A\n",
      "  2%|▌                               | 46459/2379115 [00:03<02:29, 15622.63it/s]\u001b[A\n",
      "  2%|▋                               | 48036/2379115 [00:03<02:31, 15414.15it/s]\u001b[A\n",
      "  2%|▋                               | 49587/2379115 [00:03<02:31, 15342.48it/s]\u001b[A\n",
      "  2%|▋                               | 51128/2379115 [00:03<02:56, 13175.66it/s]\u001b[A\n",
      "  2%|▋                               | 53223/2379115 [00:03<02:32, 15207.23it/s]\u001b[A\n",
      "  2%|▋                               | 54980/2379115 [00:03<02:26, 15843.92it/s]\u001b[A\n",
      "  2%|▊                               | 56619/2379115 [00:04<02:28, 15596.45it/s]\u001b[A\n",
      "  2%|▊                               | 58217/2379115 [00:04<02:53, 13412.95it/s]\u001b[A\n",
      "  3%|▊                               | 60064/2379115 [00:04<02:37, 14697.68it/s]\u001b[A\n",
      "  3%|▊                               | 62037/2379115 [00:04<02:24, 16039.30it/s]\u001b[A\n",
      "  3%|▊                               | 63710/2379115 [00:04<02:25, 15893.86it/s]\u001b[A\n",
      "  3%|▉                               | 65348/2379115 [00:04<02:38, 14583.51it/s]\u001b[A\n",
      "  3%|▉                               | 66857/2379115 [00:04<03:04, 12507.43it/s]\u001b[A\n",
      "  3%|▉                               | 68185/2379115 [00:04<03:18, 11636.87it/s]\u001b[A\n",
      "  3%|▉                               | 69615/2379115 [00:05<03:08, 12280.56it/s]\u001b[A\n",
      "  3%|▉                               | 71481/2379115 [00:05<02:45, 13917.28it/s]\u001b[A\n",
      "  3%|▉                               | 73420/2379115 [00:05<02:29, 15385.24it/s]\u001b[A\n",
      "  3%|█                               | 75022/2379115 [00:05<02:28, 15519.00it/s]\u001b[A\n",
      "  3%|█                               | 76669/2379115 [00:05<02:25, 15787.45it/s]\u001b[A\n",
      "  3%|█                               | 78950/2379115 [00:05<02:09, 17809.29it/s]\u001b[A\n",
      "  3%|█                               | 80763/2379115 [00:05<02:20, 16304.95it/s]\u001b[A\n",
      "  3%|█                               | 82439/2379115 [00:05<02:42, 14090.98it/s]\u001b[A\n",
      "  4%|█▏                              | 83926/2379115 [00:05<02:57, 12941.08it/s]\u001b[A\n",
      "  4%|█▏                              | 86085/2379115 [00:06<02:32, 15060.66it/s]\u001b[A\n",
      "  4%|█▏                              | 87681/2379115 [00:06<02:33, 14906.99it/s]\u001b[A\n",
      "  4%|█▏                              | 89234/2379115 [00:06<02:35, 14749.72it/s]\u001b[A\n",
      "  4%|█▏                              | 90796/2379115 [00:06<02:32, 14985.06it/s]\u001b[A\n",
      "  4%|█▏                              | 92636/2379115 [00:06<02:23, 15927.72it/s]\u001b[A\n",
      "  4%|█▎                              | 94259/2379115 [00:06<02:26, 15633.02it/s]\u001b[A\n",
      "  4%|█▎                              | 96111/2379115 [00:06<02:18, 16452.89it/s]\u001b[A\n",
      "  4%|█▎                              | 97776/2379115 [00:06<02:29, 15215.04it/s]\u001b[A\n",
      "  4%|█▎                              | 99517/2379115 [00:06<02:24, 15818.22it/s]\u001b[A\n",
      "  4%|█▎                             | 101645/2379115 [00:07<02:11, 17354.81it/s]\u001b[A\n",
      "  4%|█▎                             | 103409/2379115 [00:07<02:21, 16129.50it/s]\u001b[A\n",
      "  4%|█▎                             | 105157/2379115 [00:07<02:17, 16498.84it/s]\u001b[A\n",
      "  5%|█▍                             | 107159/2379115 [00:07<02:09, 17484.52it/s]\u001b[A\n",
      "  5%|█▍                             | 109742/2379115 [00:07<01:54, 19880.65it/s]\u001b[A\n",
      "  5%|█▍                             | 111787/2379115 [00:07<01:53, 20042.92it/s]\u001b[A\n",
      "  5%|█▍                             | 113812/2379115 [00:07<02:02, 18503.79it/s]\u001b[A\n",
      "  5%|█▌                             | 115699/2379115 [00:07<02:23, 15817.60it/s]\u001b[A\n",
      "  5%|█▌                             | 117367/2379115 [00:07<02:42, 13950.79it/s]\u001b[A\n",
      "  5%|█▌                             | 119187/2379115 [00:08<02:31, 14966.36it/s]\u001b[A\n",
      "  5%|█▌                             | 120771/2379115 [00:08<02:28, 15162.51it/s]\u001b[A\n",
      "  5%|█▌                             | 122502/2379115 [00:08<02:23, 15730.49it/s]\u001b[A\n",
      "  5%|█▌                             | 124274/2379115 [00:08<02:18, 16275.45it/s]\u001b[A\n",
      "  5%|█▋                             | 125989/2379115 [00:08<02:16, 16521.74it/s]\u001b[A\n",
      "  5%|█▋                             | 127672/2379115 [00:08<02:22, 15782.02it/s]\u001b[A\n",
      "  5%|█▋                             | 129277/2379115 [00:08<02:35, 14451.94it/s]\u001b[A\n",
      "  5%|█▋                             | 130758/2379115 [00:08<02:36, 14408.59it/s]\u001b[A\n",
      "  6%|█▋                             | 132224/2379115 [00:08<02:45, 13598.54it/s]\u001b[A\n",
      "  6%|█▋                             | 134119/2379115 [00:09<02:29, 15039.07it/s]\u001b[A\n",
      "  6%|█▊                             | 136292/2379115 [00:09<02:12, 16897.35it/s]\u001b[A\n",
      "  6%|█▊                             | 138137/2379115 [00:09<02:09, 17329.86it/s]\u001b[A\n",
      "  6%|█▊                             | 140141/2379115 [00:09<02:03, 18111.02it/s]\u001b[A\n",
      "  6%|█▊                             | 142132/2379115 [00:09<02:00, 18633.03it/s]\u001b[A\n",
      "  6%|█▉                             | 144013/2379115 [00:09<02:15, 16550.64it/s]\u001b[A\n",
      "  6%|█▉                             | 145722/2379115 [00:09<02:17, 16236.47it/s]\u001b[A\n",
      "  6%|█▉                             | 147383/2379115 [00:09<02:20, 15869.00it/s]\u001b[A\n",
      "  6%|█▉                             | 149533/2379115 [00:09<02:08, 17417.67it/s]\u001b[A\n",
      "  6%|█▉                             | 151361/2379115 [00:10<02:06, 17660.55it/s]\u001b[A\n",
      "  6%|█▉                             | 153151/2379115 [00:10<02:09, 17232.04it/s]\u001b[A\n",
      "  7%|██                             | 155274/2379115 [00:10<02:01, 18371.81it/s]\u001b[A\n",
      "  7%|██                             | 157130/2379115 [00:10<02:06, 17619.78it/s]\u001b[A\n",
      "  7%|██                             | 158910/2379115 [00:10<02:17, 16157.31it/s]\u001b[A\n",
      "  7%|██                             | 160557/2379115 [00:10<02:18, 16016.44it/s]\u001b[A\n",
      "  7%|██                             | 162180/2379115 [00:10<02:22, 15522.10it/s]\u001b[A\n",
      "  7%|██▏                            | 163747/2379115 [00:10<02:26, 15130.13it/s]\u001b[A\n",
      "  7%|██▏                            | 165742/2379115 [00:10<02:14, 16462.20it/s]\u001b[A\n",
      "  7%|██▏                            | 167461/2379115 [00:11<02:12, 16667.11it/s]\u001b[A\n",
      "  7%|██▏                            | 169142/2379115 [00:11<02:12, 16684.72it/s]\u001b[A\n",
      "  7%|██▏                            | 170821/2379115 [00:11<02:18, 15931.46it/s]\u001b[A\n",
      "  7%|██▏                            | 172427/2379115 [00:11<02:22, 15447.88it/s]\u001b[A\n",
      "  7%|██▎                            | 173982/2379115 [00:11<02:25, 15192.34it/s]\u001b[A\n",
      "  7%|██▎                            | 175508/2379115 [00:11<02:37, 14011.29it/s]\u001b[A\n",
      "  7%|██▎                            | 176928/2379115 [00:11<02:36, 14029.50it/s]\u001b[A\n",
      "  7%|██▎                            | 178424/2379115 [00:11<02:34, 14283.83it/s]\u001b[A\n",
      "  8%|██▎                            | 179864/2379115 [00:11<02:37, 13973.45it/s]\u001b[A\n",
      "  8%|██▎                            | 181328/2379115 [00:11<02:35, 14161.76it/s]\u001b[A\n",
      "  8%|██▍                            | 182751/2379115 [00:12<02:37, 13955.42it/s]\u001b[A\n",
      "  8%|██▍                            | 184177/2379115 [00:12<02:36, 14039.78it/s]\u001b[A\n",
      "  8%|██▍                            | 185585/2379115 [00:12<02:45, 13289.74it/s]\u001b[A\n",
      "  8%|██▍                            | 186924/2379115 [00:12<02:47, 13111.06it/s]\u001b[A\n",
      "  8%|██▍                            | 188242/2379115 [00:12<02:48, 13009.22it/s]\u001b[A\n",
      "  8%|██▍                            | 189547/2379115 [00:12<02:54, 12580.34it/s]\u001b[A\n",
      "  8%|██▍                            | 191206/2379115 [00:12<02:39, 13699.28it/s]\u001b[A\n",
      "  8%|██▌                            | 192585/2379115 [00:12<02:40, 13596.11it/s]\u001b[A\n",
      "  8%|██▌                            | 194812/2379115 [00:12<02:15, 16107.22it/s]\u001b[A\n",
      "  8%|██▌                            | 196436/2379115 [00:13<02:15, 16128.37it/s]\u001b[A\n",
      "  8%|██▌                            | 198059/2379115 [00:13<02:19, 15638.16it/s]\u001b[A\n",
      "  8%|██▌                            | 199683/2379115 [00:13<02:17, 15807.92it/s]\u001b[A\n",
      "  8%|██▌                            | 201309/2379115 [00:13<02:16, 15939.21it/s]\u001b[A\n",
      "  9%|██▋                            | 202909/2379115 [00:13<02:20, 15468.45it/s]\u001b[A\n",
      "  9%|██▋                            | 204731/2379115 [00:13<02:13, 16264.66it/s]\u001b[A\n",
      "  9%|██▋                            | 207024/2379115 [00:13<01:59, 18215.22it/s]\u001b[A\n",
      "  9%|██▋                            | 209094/2379115 [00:13<01:54, 18938.82it/s]\u001b[A\n",
      "  9%|██▊                            | 211142/2379115 [00:13<01:51, 19392.38it/s]\u001b[A\n",
      "  9%|██▊                            | 213105/2379115 [00:13<01:51, 19458.98it/s]\u001b[A\n",
      "  9%|██▊                            | 215056/2379115 [00:14<02:03, 17563.79it/s]\u001b[A\n",
      "  9%|██▊                            | 216851/2379115 [00:14<02:04, 17398.51it/s]\u001b[A\n",
      "  9%|██▊                            | 219307/2379115 [00:14<01:51, 19405.69it/s]\u001b[A\n",
      "  9%|██▉                            | 221280/2379115 [00:14<01:53, 18945.57it/s]\u001b[A\n",
      "  9%|██▉                            | 223198/2379115 [00:14<01:55, 18612.46it/s]\u001b[A\n",
      "  9%|██▉                            | 225076/2379115 [00:14<01:59, 18005.05it/s]\u001b[A\n",
      " 10%|██▉                            | 226930/2379115 [00:14<01:58, 18153.86it/s]\u001b[A\n",
      " 10%|██▉                            | 228756/2379115 [00:14<02:06, 17018.97it/s]\u001b[A\n",
      " 10%|███                            | 230512/2379115 [00:14<02:05, 17167.55it/s]\u001b[A\n",
      " 10%|███                            | 232811/2379115 [00:15<01:54, 18812.53it/s]\u001b[A\n",
      " 10%|███                            | 234845/2379115 [00:15<01:51, 19251.77it/s]\u001b[A\n",
      " 10%|███                            | 236786/2379115 [00:15<02:10, 16433.74it/s]\u001b[A\n",
      " 10%|███                            | 238509/2379115 [00:15<02:09, 16559.11it/s]\u001b[A\n",
      " 10%|███▏                           | 240482/2379115 [00:15<02:02, 17418.12it/s]\u001b[A\n",
      " 10%|███▏                           | 242273/2379115 [00:15<02:23, 14891.62it/s]\u001b[A\n",
      " 10%|███▏                           | 243855/2379115 [00:15<02:24, 14810.73it/s]\u001b[A\n",
      " 10%|███▏                           | 245400/2379115 [00:15<02:25, 14650.16it/s]\u001b[A\n",
      " 10%|███▏                           | 246909/2379115 [00:16<02:27, 14438.33it/s]\u001b[A\n",
      " 10%|███▏                           | 248382/2379115 [00:16<02:31, 14100.95it/s]\u001b[A\n",
      " 11%|███▎                           | 250041/2379115 [00:16<02:24, 14781.07it/s]\u001b[A\n",
      " 11%|███▎                           | 251644/2379115 [00:16<02:20, 15130.19it/s]\u001b[A\n",
      " 11%|███▎                           | 253824/2379115 [00:16<02:04, 17018.28it/s]\u001b[A\n",
      " 11%|███▎                           | 255546/2379115 [00:16<02:05, 16859.44it/s]\u001b[A\n",
      " 11%|███▎                           | 257246/2379115 [00:16<02:12, 16013.87it/s]\u001b[A\n",
      " 11%|███▎                           | 258865/2379115 [00:16<02:16, 15492.25it/s]\u001b[A\n",
      " 11%|███▍                           | 260428/2379115 [00:16<02:19, 15197.46it/s]\u001b[A\n",
      " 11%|███▍                           | 262229/2379115 [00:16<02:12, 15975.40it/s]\u001b[A\n",
      " 11%|███▍                           | 263955/2379115 [00:17<02:09, 16340.82it/s]\u001b[A\n",
      " 11%|███▍                           | 265599/2379115 [00:17<02:20, 15021.84it/s]\u001b[A\n",
      " 11%|███▍                           | 267127/2379115 [00:17<02:20, 15068.96it/s]\u001b[A\n",
      " 11%|███▌                           | 268652/2379115 [00:17<02:20, 14971.66it/s]\u001b[A\n",
      " 11%|███▌                           | 270162/2379115 [00:17<02:21, 14936.97it/s]\u001b[A\n",
      " 11%|███▌                           | 271769/2379115 [00:17<02:18, 15260.40it/s]\u001b[A\n",
      " 12%|███▌                           | 273955/2379115 [00:17<02:02, 17182.53it/s]\u001b[A\n",
      " 12%|███▌                           | 276044/2379115 [00:17<01:55, 18264.06it/s]\u001b[A\n",
      " 12%|███▌                           | 277880/2379115 [00:17<02:10, 16083.91it/s]\u001b[A\n",
      " 12%|███▋                           | 279605/2379115 [00:18<02:08, 16398.30it/s]\u001b[A\n",
      " 12%|███▋                           | 281781/2379115 [00:18<01:57, 17893.94it/s]\u001b[A\n",
      " 12%|███▋                           | 283662/2379115 [00:18<01:55, 18154.43it/s]\u001b[A\n",
      " 12%|███▋                           | 285887/2379115 [00:18<01:48, 19337.05it/s]\u001b[A\n",
      " 12%|███▊                           | 287846/2379115 [00:18<02:03, 16958.74it/s]\u001b[A\n",
      " 12%|███▊                           | 290106/2379115 [00:18<01:53, 18465.89it/s]\u001b[A\n",
      " 12%|███▊                           | 292149/2379115 [00:18<01:49, 19006.10it/s]\u001b[A\n",
      " 12%|███▊                           | 294101/2379115 [00:18<02:00, 17249.95it/s]\u001b[A\n",
      " 12%|███▊                           | 296318/2379115 [00:18<01:52, 18555.62it/s]\u001b[A\n",
      " 13%|███▉                           | 298234/2379115 [00:19<01:54, 18141.40it/s]\u001b[A\n",
      " 13%|███▉                           | 300395/2379115 [00:19<01:48, 19098.57it/s]\u001b[A\n",
      " 13%|███▉                           | 302343/2379115 [00:19<01:49, 19000.38it/s]\u001b[A\n",
      " 13%|███▉                           | 304662/2379115 [00:19<01:42, 20182.82it/s]\u001b[A\n",
      " 13%|███▉                           | 306723/2379115 [00:19<01:42, 20306.35it/s]\u001b[A\n",
      " 13%|████                           | 308974/2379115 [00:19<01:38, 20949.97it/s]\u001b[A\n",
      " 13%|████                           | 311083/2379115 [00:19<01:44, 19743.51it/s]\u001b[A\n",
      " 13%|████                           | 313080/2379115 [00:19<01:46, 19308.95it/s]\u001b[A\n",
      " 13%|████                           | 315217/2379115 [00:19<01:43, 19853.36it/s]\u001b[A\n",
      " 13%|████▏                          | 317217/2379115 [00:20<01:50, 18660.89it/s]\u001b[A\n",
      " 13%|████▏                          | 319105/2379115 [00:20<02:04, 16605.90it/s]\u001b[A\n",
      " 13%|████▏                          | 321110/2379115 [00:20<01:57, 17488.76it/s]\u001b[A\n",
      " 14%|████▏                          | 322907/2379115 [00:20<02:02, 16728.18it/s]\u001b[A\n",
      " 14%|████▏                          | 324640/2379115 [00:20<02:01, 16889.13it/s]\u001b[A\n",
      " 14%|████▎                          | 326356/2379115 [00:20<02:01, 16849.09it/s]\u001b[A\n",
      " 14%|████▎                          | 328113/2379115 [00:20<02:00, 17051.16it/s]\u001b[A\n",
      " 14%|████▎                          | 329833/2379115 [00:20<02:01, 16885.50it/s]\u001b[A\n",
      " 14%|████▎                          | 331532/2379115 [00:20<02:11, 15585.35it/s]\u001b[A\n",
      " 14%|████▎                          | 333115/2379115 [00:21<02:15, 15101.66it/s]\u001b[A\n",
      " 14%|████▎                          | 335116/2379115 [00:21<02:04, 16451.64it/s]\u001b[A\n",
      " 14%|████▍                          | 336786/2379115 [00:21<02:14, 15236.24it/s]\u001b[A\n",
      " 14%|████▍                          | 338838/2379115 [00:21<02:02, 16667.70it/s]\u001b[A\n",
      " 14%|████▍                          | 340912/2379115 [00:21<01:54, 17802.96it/s]\u001b[A\n",
      " 14%|████▍                          | 342727/2379115 [00:21<01:57, 17329.20it/s]\u001b[A\n",
      " 14%|████▍                          | 344486/2379115 [00:21<02:04, 16403.25it/s]\u001b[A\n",
      " 15%|████▌                          | 346151/2379115 [00:21<02:09, 15736.46it/s]\u001b[A\n",
      " 15%|████▌                          | 347744/2379115 [00:21<02:22, 14237.49it/s]\u001b[A\n",
      " 15%|████▌                          | 349201/2379115 [00:22<02:25, 13935.21it/s]\u001b[A\n",
      " 15%|████▌                          | 350928/2379115 [00:22<02:16, 14818.39it/s]\u001b[A\n",
      " 15%|████▌                          | 352436/2379115 [00:22<02:21, 14345.03it/s]\u001b[A\n",
      " 15%|████▌                          | 354585/2379115 [00:22<02:04, 16306.61it/s]\u001b[A\n",
      " 15%|████▋                          | 356503/2379115 [00:22<01:58, 17101.15it/s]\u001b[A\n",
      " 15%|████▋                          | 358240/2379115 [00:22<02:11, 15409.89it/s]\u001b[A\n",
      " 15%|████▋                          | 359828/2379115 [00:22<02:11, 15410.98it/s]\u001b[A\n",
      " 15%|████▋                          | 361402/2379115 [00:22<02:14, 15028.12it/s]\u001b[A\n",
      " 15%|████▋                          | 363034/2379115 [00:22<02:11, 15385.03it/s]\u001b[A\n",
      " 15%|████▊                          | 364693/2379115 [00:23<02:08, 15721.51it/s]\u001b[A\n",
      " 15%|████▊                          | 366306/2379115 [00:23<02:07, 15837.29it/s]\u001b[A\n",
      " 15%|████▊                          | 368039/2379115 [00:23<02:03, 16271.50it/s]\u001b[A\n",
      " 16%|████▊                          | 369740/2379115 [00:23<02:01, 16484.83it/s]\u001b[A\n",
      " 16%|████▊                          | 372092/2379115 [00:23<01:48, 18562.71it/s]\u001b[A\n",
      " 16%|████▉                          | 374261/2379115 [00:23<01:42, 19488.35it/s]\u001b[A\n",
      " 16%|████▉                          | 376238/2379115 [00:23<01:42, 19570.82it/s]\u001b[A\n",
      " 16%|████▉                          | 378200/2379115 [00:23<01:42, 19561.38it/s]\u001b[A\n",
      " 16%|████▉                          | 380160/2379115 [00:23<01:50, 18038.11it/s]\u001b[A\n",
      " 16%|████▉                          | 382004/2379115 [00:23<01:50, 18138.49it/s]\u001b[A\n",
      " 16%|█████                          | 383837/2379115 [00:24<01:51, 17884.70it/s]\u001b[A\n",
      " 16%|█████                          | 385639/2379115 [00:24<01:58, 16781.65it/s]\u001b[A\n",
      " 16%|█████                          | 387337/2379115 [00:24<01:58, 16823.50it/s]\u001b[A\n",
      " 16%|█████                          | 389034/2379115 [00:24<02:00, 16497.21it/s]\u001b[A\n",
      " 16%|█████                          | 391155/2379115 [00:24<01:51, 17829.58it/s]\u001b[A\n",
      " 17%|█████                          | 392953/2379115 [00:24<01:51, 17749.04it/s]\u001b[A\n",
      " 17%|█████▏                         | 394780/2379115 [00:24<01:50, 17900.26it/s]\u001b[A\n",
      " 17%|█████▏                         | 396615/2379115 [00:24<01:50, 18019.78it/s]\u001b[A\n",
      " 17%|█████▏                         | 398423/2379115 [00:24<01:53, 17403.13it/s]\u001b[A\n",
      " 17%|█████▏                         | 400171/2379115 [00:25<02:04, 15952.91it/s]\u001b[A\n",
      " 17%|█████▏                         | 401804/2379115 [00:25<02:03, 16044.36it/s]\u001b[A\n",
      " 17%|█████▎                         | 403868/2379115 [00:25<01:53, 17336.94it/s]\u001b[A\n",
      " 17%|█████▎                         | 406041/2379115 [00:25<01:46, 18595.10it/s]\u001b[A\n",
      " 17%|█████▎                         | 408188/2379115 [00:25<01:41, 19428.49it/s]\u001b[A\n",
      " 17%|█████▎                         | 410353/2379115 [00:25<01:38, 20068.82it/s]\u001b[A\n",
      " 17%|█████▎                         | 412374/2379115 [00:25<01:49, 18028.97it/s]\u001b[A\n",
      " 17%|█████▍                         | 414225/2379115 [00:25<02:01, 16141.91it/s]\u001b[A\n",
      " 17%|█████▍                         | 415902/2379115 [00:25<02:01, 16191.90it/s]\u001b[A\n",
      " 18%|█████▍                         | 417566/2379115 [00:26<02:01, 16129.57it/s]\u001b[A\n",
      " 18%|█████▍                         | 419210/2379115 [00:26<02:07, 15361.08it/s]\u001b[A\n",
      " 18%|█████▍                         | 420771/2379115 [00:26<02:10, 15035.90it/s]\u001b[A\n",
      " 18%|█████▌                         | 422607/2379115 [00:26<02:02, 15944.03it/s]\u001b[A\n",
      " 18%|█████▌                         | 424302/2379115 [00:26<02:00, 16226.06it/s]\u001b[A\n",
      " 18%|█████▌                         | 426258/2379115 [00:26<01:53, 17180.09it/s]\u001b[A\n",
      " 18%|█████▌                         | 427998/2379115 [00:26<01:53, 17236.61it/s]\u001b[A\n",
      " 18%|█████▌                         | 429733/2379115 [00:26<01:56, 16686.30it/s]\u001b[A\n",
      " 18%|█████▋                         | 431745/2379115 [00:26<01:50, 17674.90it/s]\u001b[A\n",
      " 18%|█████▋                         | 433708/2379115 [00:26<01:46, 18241.05it/s]\u001b[A\n",
      " 18%|█████▋                         | 435542/2379115 [00:27<02:14, 14470.38it/s]\u001b[A\n",
      " 18%|█████▋                         | 437117/2379115 [00:27<02:14, 14473.74it/s]\u001b[A\n",
      " 18%|█████▋                         | 439153/2379115 [00:27<02:01, 15992.40it/s]\u001b[A\n",
      " 19%|█████▋                         | 440839/2379115 [00:27<02:09, 14964.53it/s]\u001b[A\n",
      " 19%|█████▊                         | 442405/2379115 [00:27<02:21, 13727.15it/s]\u001b[A\n",
      " 19%|█████▊                         | 443850/2379115 [00:27<02:19, 13910.03it/s]\u001b[A\n",
      " 19%|█████▊                         | 445308/2379115 [00:27<02:17, 14085.69it/s]\u001b[A\n",
      " 19%|█████▊                         | 447184/2379115 [00:27<02:05, 15371.66it/s]\u001b[A\n",
      " 19%|█████▊                         | 449079/2379115 [00:28<01:57, 16380.73it/s]\u001b[A\n",
      " 19%|█████▉                         | 450906/2379115 [00:28<01:53, 16923.23it/s]\u001b[A\n",
      " 19%|█████▉                         | 452623/2379115 [00:28<01:55, 16703.27it/s]\u001b[A\n",
      " 19%|█████▉                         | 454451/2379115 [00:28<01:52, 17159.47it/s]\u001b[A\n",
      " 19%|█████▉                         | 456389/2379115 [00:28<01:47, 17808.95it/s]\u001b[A\n",
      " 19%|█████▉                         | 458388/2379115 [00:28<01:44, 18450.83it/s]\u001b[A\n",
      " 19%|█████▉                         | 460242/2379115 [00:28<01:44, 18441.83it/s]\u001b[A\n",
      " 19%|██████                         | 462505/2379115 [00:28<01:37, 19680.87it/s]\u001b[A\n",
      " 20%|██████                         | 464479/2379115 [00:28<01:40, 19057.85it/s]\u001b[A\n",
      " 20%|██████                         | 466393/2379115 [00:28<01:44, 18317.23it/s]\u001b[A\n",
      " 20%|██████                         | 468235/2379115 [00:29<02:03, 15516.96it/s]\u001b[A\n",
      " 20%|██████▏                        | 470204/2379115 [00:29<01:55, 16577.73it/s]\u001b[A\n",
      " 20%|██████▏                        | 471932/2379115 [00:29<01:58, 16127.50it/s]\u001b[A\n",
      " 20%|██████▏                        | 473594/2379115 [00:29<01:58, 16122.19it/s]\u001b[A\n",
      " 20%|██████▏                        | 475374/2379115 [00:29<01:54, 16583.94it/s]\u001b[A\n",
      " 20%|██████▏                        | 477061/2379115 [00:29<02:06, 15070.37it/s]\u001b[A\n",
      " 20%|██████▏                        | 478610/2379115 [00:29<02:16, 13886.38it/s]\u001b[A\n",
      " 20%|██████▎                        | 480600/2379115 [00:29<02:02, 15440.72it/s]\u001b[A\n",
      " 20%|██████▎                        | 482553/2379115 [00:30<01:54, 16531.86it/s]\u001b[A\n",
      " 20%|██████▎                        | 484407/2379115 [00:30<01:51, 17067.97it/s]\u001b[A\n",
      " 20%|██████▎                        | 486355/2379115 [00:30<01:46, 17752.48it/s]\u001b[A\n",
      " 21%|██████▎                        | 488161/2379115 [00:30<01:46, 17760.24it/s]\u001b[A\n",
      " 21%|██████▍                        | 489959/2379115 [00:30<01:51, 17008.18it/s]\u001b[A\n",
      " 21%|██████▍                        | 491699/2379115 [00:30<01:50, 17118.52it/s]\u001b[A\n",
      " 21%|██████▍                        | 493426/2379115 [00:30<01:57, 15986.23it/s]\u001b[A\n",
      " 21%|██████▍                        | 495109/2379115 [00:30<01:56, 16217.23it/s]\u001b[A\n",
      " 21%|██████▍                        | 496749/2379115 [00:30<01:56, 16097.90it/s]\u001b[A\n",
      " 21%|██████▍                        | 498436/2379115 [00:30<01:55, 16317.81it/s]\u001b[A\n",
      " 21%|██████▌                        | 500435/2379115 [00:31<01:48, 17381.77it/s]\u001b[A\n",
      " 21%|██████▌                        | 502326/2379115 [00:31<01:45, 17819.54it/s]\u001b[A\n",
      " 21%|██████▌                        | 504117/2379115 [00:31<02:05, 14966.11it/s]\u001b[A\n",
      " 21%|██████▌                        | 505917/2379115 [00:31<01:58, 15757.95it/s]\u001b[A\n",
      " 21%|██████▌                        | 507562/2379115 [00:31<02:02, 15221.10it/s]\u001b[A\n",
      " 21%|██████▋                        | 509134/2379115 [00:31<02:03, 15190.40it/s]\u001b[A\n",
      " 21%|██████▋                        | 510688/2379115 [00:31<02:05, 14846.84it/s]\u001b[A\n",
      " 22%|██████▋                        | 512197/2379115 [00:31<02:06, 14790.74it/s]\u001b[A\n",
      " 22%|██████▋                        | 513971/2379115 [00:31<01:59, 15620.54it/s]\u001b[A\n",
      " 22%|██████▋                        | 515801/2379115 [00:32<01:53, 16388.40it/s]\u001b[A\n",
      " 22%|██████▋                        | 517542/2379115 [00:32<01:51, 16685.06it/s]\u001b[A\n",
      " 22%|██████▊                        | 519222/2379115 [00:32<01:52, 16537.35it/s]\u001b[A\n",
      " 22%|██████▊                        | 520915/2379115 [00:32<01:51, 16651.89it/s]\u001b[A\n",
      " 22%|██████▊                        | 522587/2379115 [00:32<01:57, 15841.02it/s]\u001b[A\n",
      " 22%|██████▊                        | 524183/2379115 [00:32<02:00, 15445.54it/s]\u001b[A\n",
      " 22%|██████▊                        | 525749/2379115 [00:32<01:59, 15483.53it/s]\u001b[A\n",
      " 22%|██████▊                        | 527304/2379115 [00:32<02:04, 14847.76it/s]\u001b[A\n",
      " 22%|██████▉                        | 528797/2379115 [00:32<02:08, 14410.37it/s]\u001b[A\n",
      " 22%|██████▉                        | 530408/2379115 [00:33<02:04, 14885.26it/s]\u001b[A\n",
      " 22%|██████▉                        | 532339/2379115 [00:33<01:54, 16150.50it/s]\u001b[A\n",
      " 22%|██████▉                        | 534274/2379115 [00:33<01:48, 17076.80it/s]\u001b[A\n",
      " 23%|██████▉                        | 536735/2379115 [00:33<01:35, 19285.82it/s]\u001b[A\n",
      " 23%|███████                        | 538677/2379115 [00:33<01:39, 18562.09it/s]\u001b[A\n",
      " 23%|███████                        | 540633/2379115 [00:33<01:37, 18842.60it/s]\u001b[A\n",
      " 23%|███████                        | 542529/2379115 [00:33<01:46, 17207.08it/s]\u001b[A\n",
      " 23%|███████                        | 544352/2379115 [00:33<01:44, 17487.06it/s]\u001b[A\n",
      " 23%|███████                        | 546127/2379115 [00:33<01:50, 16524.59it/s]\u001b[A\n",
      " 23%|███████▏                       | 548361/2379115 [00:34<01:41, 18120.78it/s]\u001b[A\n",
      " 23%|███████▏                       | 550511/2379115 [00:34<01:35, 19073.70it/s]\u001b[A\n",
      " 23%|███████▏                       | 552551/2379115 [00:34<01:33, 19434.73it/s]\u001b[A\n",
      " 23%|███████▏                       | 554516/2379115 [00:34<01:53, 16085.61it/s]\u001b[A\n",
      " 23%|███████▏                       | 556233/2379115 [00:34<01:57, 15530.00it/s]\u001b[A\n",
      " 23%|███████▎                       | 558135/2379115 [00:34<01:50, 16425.26it/s]\u001b[A\n",
      " 24%|███████▎                       | 559894/2379115 [00:34<01:48, 16736.65it/s]\u001b[A\n",
      " 24%|███████▎                       | 561832/2379115 [00:34<01:44, 17468.65it/s]\u001b[A\n",
      " 24%|███████▎                       | 563628/2379115 [00:34<01:43, 17605.40it/s]\u001b[A\n",
      " 24%|███████▎                       | 565419/2379115 [00:35<01:50, 16480.73it/s]\u001b[A\n",
      " 24%|███████▍                       | 567101/2379115 [00:35<01:54, 15862.45it/s]\u001b[A\n",
      " 24%|███████▍                       | 569061/2379115 [00:35<01:47, 16889.53it/s]\u001b[A\n",
      " 24%|███████▍                       | 571197/2379115 [00:35<01:39, 18147.76it/s]\u001b[A\n",
      " 24%|███████▍                       | 573039/2379115 [00:35<01:48, 16679.81it/s]\u001b[A\n",
      " 24%|███████▍                       | 574918/2379115 [00:35<01:44, 17254.95it/s]\u001b[A\n",
      " 24%|███████▌                       | 576864/2379115 [00:35<01:40, 17871.84it/s]\u001b[A\n",
      " 24%|███████▌                       | 578980/2379115 [00:35<01:35, 18812.18it/s]\u001b[A\n",
      " 24%|███████▌                       | 581147/2379115 [00:35<01:31, 19638.18it/s]\u001b[A\n",
      " 25%|███████▌                       | 583131/2379115 [00:36<01:37, 18344.15it/s]\u001b[A\n",
      " 25%|███████▌                       | 584995/2379115 [00:36<01:47, 16765.28it/s]\u001b[A\n",
      " 25%|███████▋                       | 586713/2379115 [00:36<02:00, 14861.32it/s]\u001b[A\n",
      " 25%|███████▋                       | 588353/2379115 [00:36<01:57, 15240.64it/s]\u001b[A\n",
      " 25%|███████▋                       | 589926/2379115 [00:36<01:59, 14917.58it/s]\u001b[A\n",
      " 25%|███████▋                       | 591987/2379115 [00:36<01:48, 16441.80it/s]\u001b[A\n",
      " 25%|███████▋                       | 593672/2379115 [00:36<02:07, 14003.85it/s]\u001b[A\n",
      " 25%|███████▊                       | 595183/2379115 [00:36<02:04, 14280.29it/s]\u001b[A\n",
      " 25%|███████▊                       | 596895/2379115 [00:36<01:58, 15027.53it/s]\u001b[A\n",
      " 25%|███████▊                       | 598453/2379115 [00:37<01:58, 15066.97it/s]\u001b[A\n",
      " 25%|███████▊                       | 599999/2379115 [00:37<01:58, 14991.52it/s]\u001b[A\n",
      " 25%|███████▊                       | 601558/2379115 [00:37<01:57, 15132.14it/s]\u001b[A\n",
      " 25%|███████▊                       | 603091/2379115 [00:37<01:58, 15039.52it/s]\u001b[A\n",
      " 25%|███████▉                       | 604752/2379115 [00:37<01:54, 15493.30it/s]\u001b[A\n",
      " 25%|███████▉                       | 606313/2379115 [00:37<02:11, 13450.32it/s]\u001b[A\n",
      " 26%|███████▉                       | 607712/2379115 [00:37<02:34, 11457.06it/s]\u001b[A\n",
      " 26%|███████▉                       | 608938/2379115 [00:37<02:34, 11479.38it/s]\u001b[A\n",
      " 26%|███████▉                       | 610143/2379115 [00:38<02:38, 11195.96it/s]\u001b[A\n",
      " 26%|███████▉                       | 611656/2379115 [00:38<02:24, 12211.24it/s]\u001b[A\n",
      " 26%|███████▉                       | 613421/2379115 [00:38<02:09, 13678.01it/s]\u001b[A\n",
      " 26%|████████                       | 615111/2379115 [00:38<02:01, 14574.70it/s]\u001b[A\n",
      " 26%|████████                       | 617552/2379115 [00:38<01:41, 17373.01it/s]\u001b[A\n",
      " 26%|████████                       | 619332/2379115 [00:38<01:43, 16960.59it/s]\u001b[A\n",
      " 26%|████████                       | 621126/2379115 [00:38<01:42, 17232.51it/s]\u001b[A\n",
      " 26%|████████                       | 622873/2379115 [00:38<01:42, 17098.40it/s]\u001b[A\n",
      " 26%|████████▏                      | 624599/2379115 [00:38<01:44, 16780.61it/s]\u001b[A\n",
      " 26%|████████▏                      | 626289/2379115 [00:38<01:52, 15560.42it/s]\u001b[A\n",
      " 26%|████████▏                      | 627869/2379115 [00:39<01:58, 14753.33it/s]\u001b[A\n",
      " 26%|████████▏                      | 629885/2379115 [00:39<01:47, 16219.75it/s]\u001b[A\n",
      " 27%|████████▏                      | 631537/2379115 [00:39<01:47, 16276.36it/s]\u001b[A\n",
      " 27%|████████▎                      | 633849/2379115 [00:39<01:35, 18219.68it/s]\u001b[A\n",
      " 27%|████████▎                      | 635696/2379115 [00:39<01:40, 17361.94it/s]\u001b[A\n",
      " 27%|████████▎                      | 637457/2379115 [00:39<01:42, 16986.51it/s]\u001b[A\n",
      " 27%|████████▎                      | 639173/2379115 [00:39<01:46, 16382.51it/s]\u001b[A\n",
      " 27%|████████▎                      | 641081/2379115 [00:39<01:41, 17134.47it/s]\u001b[A\n",
      " 27%|████████▍                      | 642963/2379115 [00:39<01:38, 17612.61it/s]\u001b[A\n",
      " 27%|████████▍                      | 644738/2379115 [00:40<01:49, 15898.77it/s]\u001b[A\n",
      " 27%|████████▍                      | 646366/2379115 [00:40<01:51, 15551.02it/s]\u001b[A\n",
      " 27%|████████▍                      | 647947/2379115 [00:40<01:52, 15380.08it/s]\u001b[A\n",
      " 27%|████████▍                      | 649865/2379115 [00:40<01:45, 16432.58it/s]\u001b[A\n",
      " 27%|████████▍                      | 651938/2379115 [00:40<01:37, 17646.79it/s]\u001b[A\n",
      " 27%|████████▌                      | 653773/2379115 [00:40<01:36, 17848.25it/s]\u001b[A\n",
      " 28%|████████▌                      | 655678/2379115 [00:40<01:34, 18196.30it/s]\u001b[A\n",
      " 28%|████████▌                      | 658110/2379115 [00:40<01:26, 19998.06it/s]\u001b[A\n",
      " 28%|████████▌                      | 660220/2379115 [00:40<01:24, 20323.30it/s]\u001b[A\n",
      " 28%|████████▋                      | 662268/2379115 [00:40<01:24, 20365.21it/s]\u001b[A\n",
      " 28%|████████▋                      | 664311/2379115 [00:41<01:33, 18389.13it/s]\u001b[A\n",
      " 28%|████████▋                      | 666191/2379115 [00:41<01:34, 18054.02it/s]\u001b[A\n",
      " 28%|████████▋                      | 668024/2379115 [00:41<01:40, 16970.83it/s]\u001b[A\n",
      " 28%|████████▋                      | 670080/2379115 [00:41<01:35, 17944.87it/s]\u001b[A\n",
      " 28%|████████▊                      | 672148/2379115 [00:41<01:31, 18708.57it/s]\u001b[A\n",
      " 28%|████████▊                      | 674444/2379115 [00:41<01:25, 19917.84it/s]\u001b[A\n",
      " 28%|████████▊                      | 676461/2379115 [00:41<01:28, 19183.40it/s]\u001b[A\n",
      " 29%|████████▊                      | 678401/2379115 [00:41<01:35, 17847.29it/s]\u001b[A\n",
      " 29%|████████▊                      | 680658/2379115 [00:42<01:28, 19138.20it/s]\u001b[A\n",
      " 29%|████████▉                      | 682650/2379115 [00:42<01:27, 19356.47it/s]\u001b[A\n",
      " 29%|████████▉                      | 684611/2379115 [00:42<01:31, 18519.15it/s]\u001b[A\n",
      " 29%|████████▉                      | 686486/2379115 [00:42<01:34, 17987.28it/s]\u001b[A\n",
      " 29%|████████▉                      | 688302/2379115 [00:42<01:42, 16446.41it/s]\u001b[A\n",
      " 29%|████████▉                      | 689978/2379115 [00:42<01:45, 16077.20it/s]\u001b[A\n",
      " 29%|█████████                      | 692040/2379115 [00:42<01:37, 17304.11it/s]\u001b[A\n",
      " 29%|█████████                      | 693798/2379115 [00:42<01:37, 17238.45it/s]\u001b[A\n",
      " 29%|█████████                      | 695814/2379115 [00:42<01:33, 18063.67it/s]\u001b[A\n",
      " 29%|█████████                      | 697639/2379115 [00:42<01:36, 17403.99it/s]\u001b[A\n",
      " 29%|█████████                      | 699396/2379115 [00:43<01:40, 16636.03it/s]\u001b[A\n",
      " 29%|█████████▏                     | 701590/2379115 [00:43<01:32, 18109.31it/s]\u001b[A\n",
      " 30%|█████████▏                     | 703423/2379115 [00:43<01:34, 17671.83it/s]\u001b[A\n",
      " 30%|█████████▏                     | 705207/2379115 [00:43<01:37, 17129.27it/s]\u001b[A\n",
      " 30%|█████████▏                     | 706945/2379115 [00:43<01:37, 17197.54it/s]\u001b[A\n",
      " 30%|█████████▏                     | 708674/2379115 [00:43<01:47, 15574.85it/s]\u001b[A\n",
      " 30%|█████████▎                     | 710647/2379115 [00:43<01:39, 16696.54it/s]\u001b[A\n",
      " 30%|█████████▎                     | 712352/2379115 [00:43<01:40, 16526.36it/s]\u001b[A\n",
      " 30%|█████████▎                     | 714029/2379115 [00:43<01:44, 16010.29it/s]\u001b[A\n",
      " 30%|█████████▎                     | 715648/2379115 [00:44<01:47, 15485.24it/s]\u001b[A\n",
      " 30%|█████████▎                     | 717210/2379115 [00:44<01:50, 14973.80it/s]\u001b[A\n",
      " 30%|█████████▎                     | 718718/2379115 [00:44<02:03, 13490.86it/s]\u001b[A\n",
      " 30%|█████████▍                     | 720096/2379115 [00:44<02:04, 13368.26it/s]\u001b[A\n",
      " 30%|█████████▍                     | 722076/2379115 [00:44<01:49, 15095.69it/s]\u001b[A\n",
      " 30%|█████████▍                     | 723618/2379115 [00:44<01:58, 13997.32it/s]\u001b[A\n",
      " 31%|█████████▍                     | 725632/2379115 [00:44<01:45, 15630.70it/s]\u001b[A\n",
      " 31%|█████████▍                     | 727903/2379115 [00:44<01:33, 17588.40it/s]\u001b[A\n",
      " 31%|█████████▌                     | 729709/2379115 [00:45<01:35, 17349.79it/s]\u001b[A\n",
      " 31%|█████████▌                     | 731477/2379115 [00:45<01:41, 16205.30it/s]\u001b[A\n",
      " 31%|█████████▌                     | 733642/2379115 [00:45<01:32, 17694.40it/s]\u001b[A\n",
      " 31%|█████████▌                     | 735583/2379115 [00:45<01:30, 18170.55it/s]\u001b[A\n",
      " 31%|█████████▌                     | 737431/2379115 [00:45<01:31, 17874.79it/s]\u001b[A\n",
      " 31%|█████████▋                     | 739240/2379115 [00:45<01:40, 16273.40it/s]\u001b[A\n",
      " 31%|█████████▋                     | 740906/2379115 [00:45<01:49, 15027.17it/s]\u001b[A\n",
      " 31%|█████████▋                     | 742527/2379115 [00:45<01:46, 15333.54it/s]\u001b[A\n",
      " 31%|█████████▋                     | 744168/2379115 [00:45<01:44, 15622.84it/s]\u001b[A\n",
      " 31%|█████████▋                     | 745756/2379115 [00:46<01:44, 15560.64it/s]\u001b[A\n",
      " 31%|█████████▋                     | 747919/2379115 [00:46<01:34, 17280.69it/s]\u001b[A\n",
      " 32%|█████████▊                     | 749669/2379115 [00:46<01:39, 16354.30it/s]\u001b[A\n",
      " 32%|█████████▊                     | 751328/2379115 [00:46<01:41, 16011.60it/s]\u001b[A\n",
      " 32%|█████████▊                     | 753170/2379115 [00:46<01:37, 16656.82it/s]\u001b[A\n",
      " 32%|█████████▊                     | 754852/2379115 [00:46<01:39, 16286.34it/s]\u001b[A\n",
      " 32%|█████████▊                     | 756504/2379115 [00:46<01:39, 16352.56it/s]\u001b[A\n",
      " 32%|█████████▉                     | 758409/2379115 [00:46<01:34, 17131.65it/s]\u001b[A\n",
      " 32%|█████████▉                     | 760524/2379115 [00:46<01:28, 18291.68it/s]\u001b[A\n",
      " 32%|█████████▉                     | 762706/2379115 [00:46<01:23, 19328.15it/s]\u001b[A\n",
      " 32%|█████████▉                     | 764648/2379115 [00:47<01:28, 18239.35it/s]\u001b[A\n",
      " 32%|█████████▉                     | 766682/2379115 [00:47<01:25, 18834.39it/s]\u001b[A\n",
      " 32%|██████████                     | 768581/2379115 [00:47<01:29, 17930.45it/s]\u001b[A\n",
      " 32%|██████████                     | 770392/2379115 [00:47<01:38, 16409.26it/s]\u001b[A\n",
      " 32%|██████████                     | 772066/2379115 [00:47<01:44, 15306.10it/s]\u001b[A\n",
      " 33%|██████████                     | 773627/2379115 [00:47<01:44, 15373.95it/s]\u001b[A\n",
      " 33%|██████████                     | 775267/2379115 [00:47<01:42, 15652.77it/s]\u001b[A\n",
      " 33%|██████████                     | 776859/2379115 [00:47<01:41, 15727.45it/s]\u001b[A\n",
      " 33%|██████████▏                    | 778767/2379115 [00:47<01:35, 16682.69it/s]\u001b[A\n",
      " 33%|██████████▏                    | 780477/2379115 [00:48<01:35, 16803.32it/s]\u001b[A\n",
      " 33%|██████████▏                    | 782321/2379115 [00:48<01:32, 17280.48it/s]\u001b[A\n",
      " 33%|██████████▏                    | 784058/2379115 [00:48<01:38, 16252.63it/s]\u001b[A\n",
      " 33%|██████████▏                    | 785701/2379115 [00:48<01:39, 16013.92it/s]\u001b[A\n",
      " 33%|██████████▎                    | 787315/2379115 [00:48<01:47, 14774.56it/s]\u001b[A\n",
      " 33%|██████████▎                    | 789452/2379115 [00:48<01:35, 16570.16it/s]\u001b[A\n",
      " 33%|██████████▎                    | 791440/2379115 [00:48<01:30, 17494.89it/s]\u001b[A\n",
      " 33%|██████████▎                    | 793221/2379115 [00:48<01:32, 17122.85it/s]\u001b[A\n",
      " 33%|██████████▎                    | 795431/2379115 [00:48<01:25, 18536.60it/s]\u001b[A\n",
      " 34%|██████████▍                    | 797597/2379115 [00:49<01:21, 19436.34it/s]\u001b[A\n",
      " 34%|██████████▍                    | 799652/2379115 [00:49<01:19, 19757.17it/s]\u001b[A\n",
      " 34%|██████████▍                    | 801823/2379115 [00:49<01:17, 20322.28it/s]\u001b[A\n",
      " 34%|██████████▍                    | 803867/2379115 [00:49<01:24, 18694.39it/s]\u001b[A\n",
      " 34%|██████████▌                    | 806746/2379115 [00:49<01:13, 21503.96it/s]\u001b[A\n",
      " 34%|██████████▌                    | 808996/2379115 [00:49<01:12, 21782.89it/s]\u001b[A\n",
      " 34%|██████████▌                    | 811206/2379115 [00:49<01:17, 20354.56it/s]\u001b[A\n",
      " 34%|██████████▌                    | 813280/2379115 [00:49<01:19, 19772.96it/s]\u001b[A\n",
      " 34%|██████████▌                    | 815285/2379115 [00:49<01:22, 19033.20it/s]\u001b[A\n",
      " 34%|██████████▋                    | 817210/2379115 [00:50<01:27, 17947.26it/s]\u001b[A\n",
      " 34%|██████████▋                    | 819150/2379115 [00:50<01:25, 18338.69it/s]\u001b[A\n",
      " 35%|██████████▋                    | 821003/2379115 [00:50<01:31, 17099.76it/s]\u001b[A\n",
      " 35%|██████████▋                    | 822853/2379115 [00:50<01:29, 17477.43it/s]\u001b[A\n",
      " 35%|██████████▋                    | 824788/2379115 [00:50<01:26, 17997.45it/s]\u001b[A\n",
      " 35%|██████████▊                    | 827309/2379115 [00:50<01:17, 20046.75it/s]\u001b[A\n",
      " 35%|██████████▊                    | 829339/2379115 [00:50<01:24, 18418.74it/s]\u001b[A\n",
      " 35%|██████████▊                    | 831221/2379115 [00:50<01:26, 17964.73it/s]\u001b[A\n",
      " 35%|██████████▊                    | 833045/2379115 [00:50<01:29, 17319.48it/s]\u001b[A\n",
      " 35%|██████████▉                    | 834798/2379115 [00:51<01:28, 17373.08it/s]\u001b[A\n",
      " 35%|██████████▉                    | 836550/2379115 [00:51<01:32, 16673.39it/s]\u001b[A\n",
      " 35%|██████████▉                    | 838231/2379115 [00:51<01:41, 15166.75it/s]\u001b[A\n",
      " 35%|██████████▉                    | 839777/2379115 [00:51<01:41, 15168.81it/s]\u001b[A\n",
      " 35%|██████████▉                    | 841351/2379115 [00:51<01:40, 15324.12it/s]\u001b[A\n",
      " 35%|██████████▉                    | 842899/2379115 [00:51<01:40, 15315.17it/s]\u001b[A\n",
      " 36%|███████████                    | 845220/2379115 [00:51<01:27, 17565.16it/s]\u001b[A\n",
      " 36%|███████████                    | 847324/2379115 [00:51<01:22, 18570.47it/s]\u001b[A\n",
      " 36%|███████████                    | 849470/2379115 [00:51<01:18, 19410.80it/s]\u001b[A\n",
      " 36%|███████████                    | 851425/2379115 [00:51<01:20, 19059.23it/s]\u001b[A\n",
      " 36%|███████████                    | 853342/2379115 [00:52<01:28, 17278.43it/s]\u001b[A\n",
      " 36%|███████████▏                   | 855107/2379115 [00:52<01:30, 16807.73it/s]\u001b[A\n",
      " 36%|███████████▏                   | 856814/2379115 [00:52<01:31, 16712.20it/s]\u001b[A\n",
      " 36%|███████████▏                   | 858725/2379115 [00:52<01:27, 17381.20it/s]\u001b[A\n",
      " 36%|███████████▏                   | 860480/2379115 [00:52<01:44, 14518.37it/s]\u001b[A\n",
      " 36%|███████████▏                   | 862065/2379115 [00:52<01:42, 14854.90it/s]\u001b[A\n",
      " 36%|███████████▎                   | 863617/2379115 [00:52<01:44, 14531.59it/s]\u001b[A\n",
      " 36%|███████████▎                   | 865263/2379115 [00:52<01:40, 15038.77it/s]\u001b[A\n",
      " 36%|███████████▎                   | 866805/2379115 [00:53<01:45, 14359.69it/s]\u001b[A\n",
      " 36%|███████████▎                   | 868356/2379115 [00:53<01:42, 14673.24it/s]\u001b[A\n",
      " 37%|███████████▎                   | 869848/2379115 [00:53<01:57, 12829.02it/s]\u001b[A\n",
      " 37%|███████████▎                   | 871193/2379115 [00:53<01:56, 12989.13it/s]\u001b[A\n",
      " 37%|███████████▍                   | 873012/2379115 [00:53<01:44, 14391.02it/s]\u001b[A\n",
      " 37%|███████████▍                   | 875200/2379115 [00:53<01:31, 16470.56it/s]\u001b[A\n",
      " 37%|███████████▍                   | 877065/2379115 [00:53<01:27, 17089.14it/s]\u001b[A"
     ]
    }
   ],
   "source": [
    "spans_lengths = np.array([len(tokenizer.tokenize(quote.strip('\"“”'))) for id_, p, quote, manner, speaker in tqdm(quotes)])\n",
    "(spans_lengths>1024).sum()"
   ]
  },
  {
   "cell_type": "code",
   "execution_count": 20,
   "id": "28038c4c-1aa8-4d6f-8dc9-4747001205b8",
   "metadata": {},
   "outputs": [
    {
     "data": {
      "text/plain": [
       "array([  50832,  178776,  224623,  467098,  467392,  491798,  504223,\n",
       "        504258,  552576,  646885,  647144,  689226,  782551,  929646,\n",
       "        947499,  951097,  977954,  981894, 1249164, 1391889, 1438775,\n",
       "       1445689, 1543791, 1642411, 1720062, 1721802, 1733245, 1738547,\n",
       "       1766189, 1855893, 1896581, 2036587, 2155920, 2159428, 2169109,\n",
       "       2169154, 2182459, 2182460, 2352396])"
      ]
     },
     "execution_count": 20,
     "metadata": {},
     "output_type": "execute_result"
    }
   ],
   "source": [
    "blacklist = np.array([i for i,(id_, p, quote, manner, speaker) in enumerate(quotes)])[spans_lengths>1024]\n",
    "blacklist"
   ]
  },
  {
   "cell_type": "code",
   "execution_count": 24,
   "id": "9b7f5606-c144-463c-b20b-351721ed1c6d",
   "metadata": {},
   "outputs": [],
   "source": [
    "with open(\"quotes_blacklist.json\", 'w') as f:\n",
    "    json.dump([x.item() for x in blacklist], f)"
   ]
  },
  {
   "cell_type": "markdown",
   "id": "c836a042-da0c-4e5c-a3e6-1c7356a5029f",
   "metadata": {},
   "source": [
    "# Examine the Quotes (removed of blacklisted)"
   ]
  },
  {
   "cell_type": "code",
   "execution_count": 28,
   "id": "98617035-4125-4b45-9da8-9df91c53814e",
   "metadata": {},
   "outputs": [
    {
     "name": "stderr",
     "output_type": "stream",
     "text": [
      "2379115it [00:06, 375302.03it/s]\n"
     ]
    }
   ],
   "source": [
    "# who are the named speakers?\n",
    "speaker_counts = Counter()\n",
    "for i, (id_, p, quote, manner, speaker) in tqdm(enumerate(quotes)):\n",
    "    if i not in blacklist:\n",
    "        speaker_counts[speaker] += 1"
   ]
  },
  {
   "cell_type": "code",
   "execution_count": 29,
   "id": "120c8e78-863f-4272-ab2c-f56ef3ff4913",
   "metadata": {},
   "outputs": [
    {
     "name": "stdout",
     "output_type": "stream",
     "text": [
      "negro 792\n",
      "Negro 24\n",
      "nigger 3\n",
      "Nigger 15\n",
      "chinaman 0\n",
      "Chinaman 17\n",
      "Oriental 7\n",
      "oriental 0\n",
      "coloured 0\n",
      "Coloured 0\n",
      "mulatto 57\n",
      "quadroon 9\n",
      "black 144\n",
      "Black 41\n",
      "jew 0\n",
      "Jew 130\n",
      "yid 0\n",
      "Yid 0\n"
     ]
    }
   ],
   "source": [
    "for speaker in ['negro', 'Negro', 'nigger', 'Nigger', 'chinaman', 'Chinaman', 'Oriental', 'oriental', 'coloured', 'Coloured', 'mulatto', 'quadroon', 'black', 'Black', 'jew', 'Jew', 'yid', 'Yid']:\n",
    "    print(speaker, speaker_counts[speaker])"
   ]
  },
  {
   "cell_type": "code",
   "execution_count": 30,
   "id": "98675fdb-5aaf-4ec9-845e-35a7a5147ac7",
   "metadata": {},
   "outputs": [
    {
     "name": "stdout",
     "output_type": "stream",
     "text": [
      "248\n"
     ]
    }
   ],
   "source": [
    "# how many books containing quotations attributed to the speaker, 'negro'?\n",
    "ids_with_negro_descriptors = set([id_ for id_, p, quote, manner, speaker in quotes if (speaker == 'negro' or speaker =='Negro')])\n",
    "print(len(ids_with_negro_descriptors))"
   ]
  },
  {
   "cell_type": "code",
   "execution_count": 31,
   "id": "4abdad3c-2218-4e81-9b0e-54fe41e4362c",
   "metadata": {},
   "outputs": [],
   "source": [
    "# what are the counts by speaker?\n",
    "counter = Counter()\n",
    "for id_, p, quote, manner, speaker in [(id_, p, quote, manner, speaker) for id_, p, quote, manner, speaker in quotes if id_ in ids_with_negro_descriptors]:\n",
    "    counter[speaker] += 1"
   ]
  },
  {
   "cell_type": "code",
   "execution_count": 32,
   "id": "c2d631a2-f4d5-485b-994b-d0bebc65028d",
   "metadata": {},
   "outputs": [
    {
     "name": "stdout",
     "output_type": "stream",
     "text": [
      "negro 792\n",
      "Negro 24\n",
      "nigger 2\n",
      "Nigger 15\n",
      "chinaman 0\n",
      "Chinaman 1\n",
      "Oriental 1\n",
      "oriental 0\n",
      "coloured 0\n",
      "Coloured 0\n",
      "mulatto 29\n",
      "quadroon 2\n",
      "black 91\n",
      "Black 17\n",
      "jew 0\n",
      "Jew 22\n",
      "yid 0\n",
      "Yid 0\n"
     ]
    }
   ],
   "source": [
    "for speaker in ['negro', 'Negro', 'nigger', 'Nigger', 'chinaman', 'Chinaman', 'Oriental', 'oriental', 'coloured', 'Coloured', 'mulatto', 'quadroon', 'black', 'Black', 'jew', 'Jew', 'yid', 'Yid']:\n",
    "    print(speaker, counter[speaker])"
   ]
  },
  {
   "cell_type": "code",
   "execution_count": 62,
   "id": "d29ca865-d5b1-461b-af2b-d54dae58a9c5",
   "metadata": {},
   "outputs": [],
   "source": [
    "# what am I doing when I correct it?: \n",
    "#     * look at each word separately, and propose an amendment based on similary sounding words\n",
    "#     * double check they all make sense together in context, and then propose another"
   ]
  },
  {
   "cell_type": "markdown",
   "id": "01caf4ba-d468-47e0-a421-5343e58f3d83",
   "metadata": {},
   "source": [
    "### Black Authors in PG"
   ]
  },
  {
   "cell_type": "code",
   "execution_count": 65,
   "id": "b388214b-4d82-47df-ac62-342daa1efd0e",
   "metadata": {},
   "outputs": [],
   "source": [
    "# works by black authors ...\n",
    "black_works = [\n",
    "    (\"Paul Laurence Dunbar\", ['18338', '15041', '15886', '17854', '25171', '24716']), # PS Fiction\n",
    "    # (\"Harriet Jacobs\",['11030']),\n",
    "    # (\"W. E. B. Du Bois\",['408', '17700', '15210', '31254', '62799', '35399', '66398', '62582', '5685']),\n",
    "    # (\"Booker T. Washington\",['2376', '73923', '60484', '20923', '26507', '61223', '64504', '35399', '69692', '63620', '61953', '45125']),\n",
    "    # (\"Frederick Douglas\",['23', '202', '99', '71893', '31839', '34915']),\n",
    "    # (\"Anna J. Cooper\",['61741']),\n",
    "    # (\"Solomon Northup\", ['45631']),\n",
    "    # (\"James Weldon Johnson\", ['11986', '11012', '6316', '17884', '35025']),\n",
    "    (\"Frances Ellen Watkins Harper\", ['12352', '11056', '679', '11053', '69249', '69248', '11022']), # PS Fiction\n",
    "    # (\"Ida B. Wells-Barnett\", ['14977', '14975', '14976', '64426']),\n",
    "    (\"Charles W. Chesnutt\", ['15041', '11057', '11228', '472', '19746', '35063', '10986']), # PS Fiction\n",
    "    # (\"VARIOUS\", ['71448']),\n",
    "    # (\"Langston Hughes\", ['19435']),  # PS Drama\n",
    "    # (\"William Wells Brown\", ['15132', '64971', '64883', '65519', '2046', '15830', '50130', '59500', '59114', '50092', '58414', '2095', '']),\n",
    "    # (\"Alison Moore Dunbar-Nelson\", ['18713', '688']),  # PS Fiction\n",
    "    # (\"Zora Neale Hurston\", ['19435', '73715', '17187', '15902', '22146']),  # PS Drama\n",
    "]"
   ]
  },
  {
   "cell_type": "code",
   "execution_count": 66,
   "id": "2d123310-c9ab-45ee-bb8c-c84a31e492bb",
   "metadata": {},
   "outputs": [
    {
     "name": "stderr",
     "output_type": "stream",
     "text": [
      " 52%|██████████████▌             | 1239495/2379115 [00:00<00:00, 3218470.48it/s]"
     ]
    },
    {
     "name": "stdout",
     "output_type": "stream",
     "text": [
      "\"Nothin', suh, nothin' at all, suh,\" responded 11228\n",
      "\"Yes, suh,\" replied 11228\n"
     ]
    },
    {
     "name": "stderr",
     "output_type": "stream",
     "text": [
      "100%|████████████████████████████| 2379115/2379115 [00:00<00:00, 3239813.20it/s]"
     ]
    },
    {
     "name": "stdout",
     "output_type": "stream",
     "text": [
      "\"Is de shurff in,\" inquired 11057\n",
      "\"I dunno who-all _is_ comin',\" replied 11057\n",
      "\"Dere 's Mistah McSwayne, en Doc' Cain, en Maje' McDonal', en Kunnel Wright, en a heap er yuthers. I wuz so skeered I done furgot mo' d'n half un em. I spec' dey mus' be mos' here by dis time, so I 'll git outen de way, fer I don' want nobody fer ter think I wuz mix' up in dis business.\" glanced 11057\n",
      "\"Dey won't try ter steal me, will dey, marster?\" asked 11057\n"
     ]
    },
    {
     "name": "stderr",
     "output_type": "stream",
     "text": [
      "\n"
     ]
    }
   ],
   "source": [
    "# how many negro quotations do we observe?\n",
    "\n",
    "black_ids = []\n",
    "for author, ids in black_works:\n",
    "    black_ids += ids\n",
    "\n",
    "for id_, p, quote, manner, speaker in tqdm(quotes):\n",
    "    if id_ in black_ids and speaker == 'negro':\n",
    "        print(quote, manner, id_)"
   ]
  },
  {
   "cell_type": "markdown",
   "id": "9912d945-b85f-431a-a48d-76fc3bc4a018",
   "metadata": {},
   "source": [
    "# Foray into non-canonical forms"
   ]
  },
  {
   "cell_type": "markdown",
   "id": "0d9c0337-5bd3-4e35-a8d5-7a29b8d03d56",
   "metadata": {},
   "source": [
    "let's gradually assemble a list of non-canonical forms (including abbrevs) ..."
   ]
  },
  {
   "cell_type": "code",
   "execution_count": 455,
   "id": "0f5a77d0-19bb-41fb-a34c-13d68096226a",
   "metadata": {},
   "outputs": [],
   "source": [
    "i = 0"
   ]
  },
  {
   "cell_type": "code",
   "execution_count": 95,
   "id": "857af6ec-4e80-425d-a2e8-99b2383b7e8b",
   "metadata": {},
   "outputs": [
    {
     "name": "stdout",
     "output_type": "stream",
     "text": [
      "\"Dar now,\"\n",
      "['``', ',', \"''\"]\n"
     ]
    }
   ],
   "source": [
    "# quick routine ... \n",
    "non_canon = {\"\":\"\", \"missus\":\"mistress\", \"marser\":\"master\", \"sez\":\"says\", \"jes\":\"just\", \"ever'\":\"every\", \"heah'd\":\"heard\", \"he'p\":\"help\", \"skeer\":\"scares\", \"mos'\":\"almost\", \"heah\":\"hear\", \"o'\":\"of\", \"goin'\":\"going\", \"fer\":\"for\", \"somewhur\":\"somewhere\", \"sep'rate\":\"separate\", \"udders\":\"others\", \"dem\":\"them\", \"'bout\":\"about\", \"tol'\":\"told\", \"arternoon\":\"afternoon\", \"comed\":\"came\", \"chile\":\"child\", \"sayin'\":\"saying\", \"widout\":\"without\", \"'upon\":\"upon\", \"aldough\":\"although\", \"bery\":\"very\", \"poh\":\"poor\", \"berry\":\"very\", \"Jes\":\"just\", \"seed\":\"seen\", \"eber\":\"ever\", \"lubliest\":\"loveliest\", \"mysef\": \"myself\",\"rader\":\"rather\", \"dat's\":\"thats\", \"spect\":\"expect\", \"to-night\":\"tonight\", \"ob\":\"of\", \"dat\":\"that\", \"dar\":\"there\", \"de\":\"the\", \"an'\":\"and\", \"arter\":\"after\", \"wid\":\"with\", \"wont\":\"won't\", \"dis\":\"this\", \"gwine\":\"going\", \"'em\":\"them\", \"dey\":\"they\", \"suh\":\"sir\", \"marse\":\"master\", \"seed\":\"said\", \"yestiddy\":\"yesterday\", \"sutney\":\"certainly\", \"lookin'\":\"looking\"}\n",
    "# mistis, missis, libbing, Jes\n",
    "# I rather -> I would rather, dat come -> that came, was from -> were from, \"comed up\": \"who came\"\n",
    "# ending 'like' \n",
    "# missing connecting words, 'who'\n",
    "\n",
    "quote = quotes_negro[i]\n",
    "tokens = word_tokenize(quote)\n",
    "potentials  = [token.lower() for token in tokens if token not in dictionary and token.lower() not in non_canon.keys()]\n",
    "print(quote)\n",
    "print(potentials)\n",
    "i+=1"
   ]
  },
  {
   "cell_type": "code",
   "execution_count": 494,
   "id": "9ef6a382-f1fb-4aa9-bc65-51c00d91a862",
   "metadata": {},
   "outputs": [],
   "source": [
    "# contractions = {\n",
    "#     \"roun'\":'round', \"goin'\":\"going\", \"sinkin'\":\"sinking\", \"un'der\":\"under\", \"'em\":\"them\", \"couldn'\":\"couldn't\", \"retu'n\":\"return\", \"holdin'\":\"holding\", \"till\":\"until\", \"mornin'\":\"morning\", \"an'\":\"and\", \"wonderin\":\"wondering\", \"lan\":\"land\", \"promisin\":\"promising\", \"wavin\":\"waving\", \"see-sawin\":\"see-sawing\", \"cap'en\":\"captain\", \"mo\":\"more\", \"mo'\":\"more\", \"cl'ar\":\"clear\", \"workin'\":\"working\", \"'scussin'\":\"discussing\", \"Cap'in\":\"Captain\", \"alway\":\"always\", \"t'ing\":\"things\", \"won'derful\", \"'especially\", \"yo'\":[\"your\", \"you\"], \"li'l\", \"tellin'\", \"flow'rs\":\"flowers\", \"fo'\":\"for\", \"wearin'\":\"wearing\", \"passin'\":\"passing\", \"talkin'\":\"talking\", \"reg'lar\":\"regularly\", \"li'l'\":\"little\", \"'im\":\"\", \"tain't\":\"that ain't\", \"snapping\":\"snapping\", \"'spectable\":\"respectable\", \"willin'\":\"willing\", \"th'\":\"the\", \"yas'm\":\"yes maam\", \"had'n\":\"hadn't\", \"'spec\":\"expect\", \"t'ink\":\"thing\", \"bes'\":\"best\", \"'fore\":\"before\", \"o'\":\"of\", \"s'prised\":\"surprised\", \"don'\":\"don't\", \"w'at\":\"what\", \"slave'y\":\"slavery\", \"min'\":\"mind\", \"worl'\":\"world\"\n",
    "# }  # i.e., characters in canonical order, with apostrophe's denoted shortening\n",
    "    \n",
    "misspell = {\n",
    "    \"wont\":\"\", \"mistis\":\"mister\", \"dey\":\"they\", \"marse\":\"master\", \"seed\":\"said\", \"yestiddy\":\"yesterday\", \"sutney\":\"certainly\", \"wuz\":\"was\", \"peart\":\"pert\", \"ye\":\"you\", \"missus\":\"mistress\", \"Massa\":\"Master\", \"wot\":\"what\", \"gwine\":\"going\", \"ter\":\"to\", \"sah\":\"sir\", \"neber\":\"never\", \"Mistuh\":[\"Mister\", \"Mr\"], \"Missis\":[\"Mrs\"], \"massa\":[\"master\"], \"fust-rate\":\"first rate\", \"tink\":\"think\", \"dat\":\"that\", \"Sartainly\":\"certainly\", \"yung\":\"young\", \"git\":\"get\", \"pears\":\"appears\", \"lak\":\"like\", \"haint\":[\"ain't\", \"isn't\"], \"kerrige\":\"carriage\", \"ole\":\"old\", \"und\":\"and\", \"scovered\":\"discovered\", \"to-night\":\"tonight\", \"agwine\":\"going\", \"orter\":\"ought to\", \"Ef\":\"If\", \"den\":\"then\", \"dere\":\"there\", \"wudn't\":\"wouldn't\", \"ben\":\"been\", \"scandle\":\"skandle\", \"de\":\"the\", \"es\": \"is\", \"ergwine\": \"going\", \"skornful\": \"scornful\", \"wid\":\"with\", \"dere\": \"their\", \"pinted\": \"pointed\", \"gal\":\"girl\", \"ax\": \"ask\", \"deyselves\":\"themselves\", \"cum\":\"come\", \"jined\":\"joined\", \"marser\": \"master\", \"wun\":\"one\", \"jes\":\"yes\", \"dun\":\"done\", \"gon\":\"gone\", \"arter\":\"after\", \"rong\":\"wrong\", \"yu\":\"you\", \"ekal\":\"equal\", \"yas\":\"yes\", \"sar\":\"sir\", \"sprises\":\"surprise\", \"Jonsin\":\"Johnson\", \"ergin\":\"again\", \"yo\":\"your\", \"menny\": \"many\", \"hab\": [\"have\", \"has\"], \"shurrufs\":\"sherifs\", \"Dats\":\"That's\", \"mity\":\"mighty\", \"heep\":\"heap\", \"ob\":\"of\", \"dis\":\"this\", \"sees\":\"see\", \"butifullest\":\"most beautiful\", \"somewhere\":\"sunwhere\", \"I's\":\"I am\", \"gib\":\"give\", \"hit\":\"it\", \"gits\":\"gets\", \"Mistis\":\"Misters\", \"hed\":\"had\", \"Ah\":\"I\", \"hopes\":\"hope\", \"foh\":\"for\", \"mars'r\":\"master\", \"dar'll\":\"there'll\", \"I'se\":\"I am\", \"afeerd\":\"afaind\", \"ef\":\"if\", \"yer\":\"your\", \"An\":\"And\", \"gwyn\":\"going\", \"de\":\"the\", \"quare\": \"quoir\", \"tuk\":\"took\", \"Dar's\":\"There's\", \"marster\":\"master\", \"arternoon\":\"afternoon\", \"eber\":\"ever\", \"sence\":\"since\", \"Dey\":\"They\", \"heah\":\"here\", \"to-day\":\"today\", \"seh\":\"sir\", \"sich\":\"such\", \"ob\":\"about\", \"bofe\":\"both\", \"hoss\":\"horse\", \"arter\":\"after\", \"Dis\":\"This\", \"'e\":\"the\", \"hyer\":\"higher\", \"mought\":\"mighty\", \"sutny\":\"certainly\", \"Mebbe\":\"Maybe\", \"They\":\"Their\", \"apaht\":\"apart\", \"Sutny\":\"Certainly\", \"Mas'r\":\"Master\", \"fotched\":\"fetched\", \"Yassah\": \"Yes sir\", \"gittin'\":\"getting\", \"Marse\":\"Master\", \"hain't\":\"ain't\", \"Thankee\":[\"Thank you\", \"Thanks\"], \"heself\":\"his self\", \"behave\":\"behaves\", \"quatah\":\"quarter\", \"ovah\":\"over\", \"wheel-barrer\":\"wheel barrow\", \"red\":\"ride\", \"Mass'\":\"Master\", \"whar\":\"where\", \"Tankee\":[\"Thanks\", \"Thank you\"], \"fah\":\"far\", \"Yu\":\"You\", \"yu\":\"you\", \"enny\":\"any\", \"Suttinly\":\"Certainly\", \"jest\":\"just\", \"kin\":\"can\", \"naw\":\"no\", \"'er\":\"have\", \"skuze\":\"excuse\", \"tole\":\"told\", \"whut\":\"what\", \"fur\":\"for\", \"licker\":\"liquor\", \"lubiest\":\"loveliest\", \"eber\":\"ever\", \"nebber\":\"never\", \"mistis\":\"misters\", \"dere\":\"there\", \"shure\":\"sure\", \"dey\":\"they\", \"mistah\":\"mister\", \"suh\":\"sir\", \"Injun\":\"Indian\", \"sojers\":\"soldiers\", \"wha\":\"where\", \"fader's\":\"fathers\", \"suah\":\"sir\", \"pahdon\":\"pardon\", \"yassuh\":\"yes sir\", \"nussin'\":\"nursing\", \"um\":\"them\", \"nuffin\":\"nothing\", \"forgib\":\"forgive\", \"gitt'n\":\"getting\", \"Missus\":\"Mistress\", \"Cel'bratun\":\"Celebrating\", \"Dunno\": \"Don't know\", \"dat's\":\"that's\", \"Dem\":\"them\", \"bin\":\"been\", \"out'n\":\"out of\"  \n",
    "} "
   ]
  },
  {
   "cell_type": "code",
   "execution_count": 473,
   "id": "d235cebe-baba-4503-bd67-dfd60b679223",
   "metadata": {
    "collapsed": true,
    "jupyter": {
     "outputs_hidden": true
    }
   },
   "outputs": [
    {
     "data": {
      "text/plain": [
       "True"
      ]
     },
     "execution_count": 473,
     "metadata": {},
     "output_type": "execute_result"
    }
   ],
   "source": [
    "\"arter\" in misspell"
   ]
  },
  {
   "cell_type": "code",
   "execution_count": 386,
   "id": "82ca9100",
   "metadata": {
    "collapsed": true,
    "jupyter": {
     "outputs_hidden": true
    }
   },
   "outputs": [
    {
     "ename": "SyntaxError",
     "evalue": "':' expected after dictionary key (3840600015.py, line 4)",
     "output_type": "error",
     "traceback": [
      "\u001b[0;36m  Cell \u001b[0;32mIn[386], line 4\u001b[0;36m\u001b[0m\n\u001b[0;31m    \"roun'\":'round', \"goin'\":\"going\", \"sinkin'\":\"sinking\", \"un'der\":\"under\", \"'em\":\"them\", \"couldn'\":\"couldn't\", \"retu'n\":\"return\", \"holdin'\":\"holding\", \"till\":\"until\", \"mornin'\":\"morning\", \"an'\":\"and\", \"wonderin\":\"wondering\", \"lan\":\"land\", \"promisin\":\"promising\", \"wavin\":\"waving\", \"see-sawin\":\"see-sawing\", \"cap'en\":\"captain\", \"mo\":\"more\", \"mo'\":\"more\", \"cl'ar\":\"clear\", \"workin'\":\"working\", \"'scussin'\", \"Cap'in\", \"alway\":\"always\", \"t'ing\":\"things\", \"won'derful\", \"'especially\", \"yo'\":[\"your\", \"you\"], \"li'l\", \"tellin'\", \"flow'rs\":\"flowers\", \"fo'\":\"for\", \"wearin'\":\"wearing\", \"passin'\":\"passing\", \"talkin'\":\"talking\", \"reg'lar\":\"regularly\", \"li'l'\":\"little\", \"'im\":\"\", \"tain't\":\"that ain't\", \"snapping\":\"snapping\", \"'spectable\":\"respectable\", \"willin'\":\"willing\", \"th'\":\"the\", \"yas'm\":\"yes maam\", \"had'n\":\"hadn't\", \"'spec\":\"expect\", \"t'ink\":\"thing\", \"bes'\":\"best\", \"'fore\":\"before\", \"o'\":\"of\", \"s'prised\":\"surprised\", \"don'\":\"don't\", \"w'at\":\"what\", \"slave'y\":\"slavery\", \"min'\":\"mind\", \"worl'\":\"world\"\u001b[0m\n\u001b[0m                                                                                                                                                                                                                                                                                                                                                                                                                    ^\u001b[0m\n\u001b[0;31mSyntaxError\u001b[0m\u001b[0;31m:\u001b[0m ':' expected after dictionary key\n"
     ]
    }
   ],
   "source": [
    "# What do we see that's 'non-canonical' in form, in the speaker=negro quotations? \n",
    "\n",
    "contractions = {\n",
    "    \"roun'\":'round', \"goin'\":\"going\", \"sinkin'\":\"sinking\", \"un'der\":\"under\", \"'em\":\"them\", \"couldn'\":\"couldn't\", \"retu'n\":\"return\", \"holdin'\":\"holding\", \"till\":\"until\", \"mornin'\":\"morning\", \"an'\":\"and\", \"wonderin\":\"wondering\", \"lan\":\"land\", \"promisin\":\"promising\", \"wavin\":\"waving\", \"see-sawin\":\"see-sawing\", \"cap'en\":\"captain\", \"mo\":\"more\", \"mo'\":\"more\", \"cl'ar\":\"clear\", \"workin'\":\"working\", \"'scussin'\", \"Cap'in\", \"alway\":\"always\", \"t'ing\":\"things\", \"won'derful\", \"'especially\", \"yo'\":[\"your\", \"you\"], \"li'l\", \"tellin'\", \"flow'rs\":\"flowers\", \"fo'\":\"for\", \"wearin'\":\"wearing\", \"passin'\":\"passing\", \"talkin'\":\"talking\", \"reg'lar\":\"regularly\", \"li'l'\":\"little\", \"'im\":\"\", \"tain't\":\"that ain't\", \"snapping\":\"snapping\", \"'spectable\":\"respectable\", \"willin'\":\"willing\", \"th'\":\"the\", \"yas'm\":\"yes maam\", \"had'n\":\"hadn't\", \"'spec\":\"expect\", \"t'ink\":\"thing\", \"bes'\":\"best\", \"'fore\":\"before\", \"o'\":\"of\", \"s'prised\":\"surprised\", \"don'\":\"don't\", \"w'at\":\"what\", \"slave'y\":\"slavery\", \"min'\":\"mind\", \"worl'\":\"world\"\n",
    "}  # i.e., characters in canonical order, with apostrophe's denoted shortening\n",
    "    \n",
    "misspell = {\n",
    "    \"mistis\":\"mister\", \"Dey\":\"They\", \"Marse\":\"Master\", \"seed\":\"said\", \"yestiddy\":\"yesterday\", \"sutney\":\"certainly\", \"wuz\":\"was\", \"peart\":\"pert\", \"ye\":\"you\", \"missus\":\"mistress\", \"Massa\":\"Master\", \"wot\":\"what\", \"gwine\":\"going\", \"ter\":\"to\", \"sah\":\"sir\", \"neber\":\"never\", \"Mistuh\":[\"Mister\", \"Mr\"], \"Missis\":[\"Mrs\"], \"massa\":[\"master\"], \"fust-rate\":\"first rate\", \"tink\":\"think\", \"dat\":\"that\", \"Sartainly\":\"certainly\", \"yung\":\"young\", \"git\":\"get\", \"pears\":\"appears\", \"lak\":\"like\", \"haint\":[\"ain't\", \"isn't\"], \"kerrige\":\"carriage\", \"ole\":\"old\", \"und\":\"and\", \"scoveredd\":\"discovered\", \"to-night\":\"tonight\", \"agwine\":\"going\", \"orter\":\"ought to\", \"Ef\":\"If\", \"den\":\"then\", \"dere\":\"there\", \"wudn't\":\"wouldn't\", \"ben\":\"been\", \"scandle\":\"skandle\", \"de\":\"the\", \"es\": \"is\", \"ergwine\": \"going\", \"skornful\": \"scornful\", \"wid\":\"with\", \"dere\": \"their\", \"pinted\": \"pointed\", \"gal\":\"girl\", \"ax\": \"ask\", \"deyselves\":\"themselves\", \"cum\":\"come\", \"jined\":\"joined\", \"marser\": \"master\", \"wun\":\"one\", \"jes\", \"dun\":\"done\", \"gon\":\"gone\", \"arter\":\"after\", \"rong\":\"wrong\", \"yu\":\"you\", \"ekal\":\"equal\", \"yas\":\"yes\", \"sar\":\"sir\", \"sprises\":\"surprise\", \"Jonsin\":\"Johnson\", \"ergin\":\"again\", \"yo\":\"your\", \"menny\": \"many\", \"hab\": [\"have\", \"has\"], \"shurrufs\":\"sherifs\", \"Dats\":\"That's\", \"mity\":\"mighty\", \"heep\":\"heap\", \"ob\":\"of\", \"dis\":\"this\", \"sees\":\"see\", \"butifullest\":\"most beautiful\", \"somewhere\":\"sunwhere\", \"I's\":\"I am\", \"gib\":\"give\", \"hit\":\"it\", \"gits\":\"gets\", \"Mistis\":\"Misters\",\"hed\":\"had\", \"Ah\":\"I\", \"hopes\":\"hope\", \"foh\":\"for\", \"mars'r\":\"master\", \"dar'll\":\"there'll\", \"I'se\":\"I am\", \"afeerd\":\"afaind\", \"ef\":\"if\", \"yer\":\"your\", \"An\":\"And\", \"gwyn\":\"going\", \"de\":\"the\", \"quare\": \"quoir\", \"tuk\":\"took\", \"Dar's\":\"There's\", \"marster\":\"master\", \"arternoon\":\"afternoon\", \"eber\":\"ever\", \"sence\":\"since\", \"Dey\":\"They\", \"heah\":\"here\", \"to-day\":\"today\", \"seh\":\"sir\", \"sich\":\"such\", \"ob\":\"about\", \"bofe\":\"both\", \"hoss\":\"horse\", \"arter\":\"after\", \"Dis\":\"This\", \"'e\":\"the\", \"hyer\":\"higher\", \"mought\":\"mighty\", \"sutny\":\"certainly\", \"Mebbe\":\"Maybe\", \"They\":\"Their\", \"apaht\":\"apart\", \"Sutny\":\"Certainly\", \"Mas'r\":\"Master\", \"fotched\":\"fetched\", \"Yassah\": \"Yes sir\", \"gittin'\":\"getting\", \"Marse\":\"Master\", \"hain't\":\"ain't\", \"Thankee\":[\"Thank you\", \"Thanks\"], \"heself\":\"his self\", \"behave\":\"behaves\", \"quatah\":\"quarter\", \"ovah\":\"over\", \"wheel-barrer\":\"wheel barrow\", \"red\":\"ride\", \"Mass'\":\"Master\", \"whar\":\"where\", \"Tankee\":[\"Thanks\", \"Thank you\"], \"fah\":\"far\", \"Yu\":\"You\", \"yu\":\"you\", \"enny\":\"any\", \"Suttinly\":\"Certainly\", \"jest\":\"just\", \"kin\":\"can\", \"naw\":\"no\", \"'er\":\"have\", \"skuze\":\"excuse\", \"tole\":\"told\", \"whut\":\"what\", \"fur\":\"for\", \"licker\":\"liquor\", \"lubiest\":\"loveliest\", \"eber\":\"ever\", \"Nebber\":\"Never\", \"mistis\":\"misters\", \"dere\":\"there\", \"shure\":\"sure\", \"dey\":\"they\", \"Mistah\":\"Mister\", \"suh\":\"sir\", \"Injun\":\"Indian\", \"sojers\":\"soldiers\", \"wha\":\"where\", \"fader's\":\"fathers\", \"suah\":\"sir\", \"Pahdon\":\"pardon\", \"pahdon\":\"pardon\", \"Yassuh\":\"Yes sir\", \"yassuh\":\"yes sir\", \"nussin'\":\"nursing\", \"um\":\"them\", \"nuffin\":\"nothing\", \"forgib\":\"forgive\", \"gitt'n\":\"getting\", \"Missus\":\"Mistress\", \"Cel'bratun\":\"Celebrating\", \"Dunno\": \"Don't know\", \"dat's\":\"that's\", \"Dem\":\"them\", \"bin\":\"been\", \"out'n\":\"out of\"\n",
    "    \n",
    "}  # i.e., characters in non-canonical order ... but we don't correct teh conjugation here ... e.g., \n",
    "# (???) cap'en, mars, sorrer, mout, conwic, sponuality (responsibility?), jurer (juror?), secesh, sho, pintedly, kote, stummic, Tollable, kotched, we's, \n",
    "\n",
    "# I ain't a gwine\n",
    "\n",
    "# other:\n",
    "#     she'm (she is?)\n",
    "    \n",
    "# phrases = {\n",
    "#     \"do seem\":\"does seem\", \"an'ef\": \"and if\"\n",
    "# }\n",
    "\n",
    "# incorrect verb conjugation\n",
    "# \"how I likes it\" rather than \"how I like it\"\n",
    "\n",
    "## incorrect tenses, even once non-canonical spelling is sorted out\n",
    "# \"I has gib you licker\" should be \"I have given you liquor\" (also incorrect verb conjugation)\n",
    "# 'done gone smuggle in a bottle' should be \"smuggled in a bottle\" ('done gone' a thing?)\n",
    "\n",
    "## improper pronoun use\n",
    "# \"me\" instead of \"I\" ('and me' rather than 'and I')\n",
    "\n",
    "## unnecesary additions before verb:\n",
    "# \"er\", \"done\" (fore I done tole you; ), \"a-\", \"here\" (dis here Injun)\n",
    "\n",
    "## missing auxilliary verbs\n",
    "# 'but it [has] bin so long'\n",
    "\n",
    "## missing prepositions\n",
    "# \"to\" (I gwine red up [to] de house )\n",
    "# \"is\" (what dat?)\n",
    "\n",
    "## non standard grammar\n",
    "# (subj and obj together) \"Fate him merrits\" instead of \"Fate merrits him\", \"He is merrited by Fate\"\n"
   ]
  },
  {
   "cell_type": "code",
   "execution_count": 431,
   "id": "bd0ae087",
   "metadata": {},
   "outputs": [
    {
     "name": "stdout",
     "output_type": "stream",
     "text": [
      "['gentleman'] 1478\n",
      "['lady'] 3997\n",
      "['man'] 15178\n",
      "['woman'] 4101\n",
      "['child'] 933\n",
      "['boy'] 3362\n",
      "['girl'] 8288\n",
      "['slave'] 65\n"
     ]
    }
   ],
   "source": [
    "## possible candidate counterpoint speakers?\n",
    "\n",
    "# gentleman\n",
    "for counterpoint in [['gentleman'], ['lady'], ['man'], ['woman'], ['child'], ['boy'], ['girl']]:\n",
    "    print(counterpoint, len([quote for id_, p, quote, manner, speaker in quotes if speaker in counterpoint]))"
   ]
  }
 ],
 "metadata": {
  "kernelspec": {
   "display_name": "Python 3 (ipykernel)",
   "language": "python",
   "name": "python3"
  },
  "language_info": {
   "codemirror_mode": {
    "name": "ipython",
    "version": 3
   },
   "file_extension": ".py",
   "mimetype": "text/x-python",
   "name": "python",
   "nbconvert_exporter": "python",
   "pygments_lexer": "ipython3",
   "version": "3.10.8"
  }
 },
 "nbformat": 4,
 "nbformat_minor": 5
}
