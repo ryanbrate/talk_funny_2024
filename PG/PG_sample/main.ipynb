{
 "cells": [
  {
   "cell_type": "code",
   "execution_count": 1,
   "id": "84871f48",
   "metadata": {},
   "outputs": [],
   "source": [
    "import concurrent.futures\n",
    "import itertools\n",
    "import os\n",
    "import pathlib\n",
    "import random\n",
    "import re\n",
    "import typing\n",
    "from functools import partial\n",
    "from itertools import product\n",
    "import time\n",
    "\n",
    "import numpy as np\n",
    "import orjson\n",
    "import pandas as pd\n",
    "import requests\n",
    "import xmltodict\n",
    "from tqdm import tqdm\n",
    "import matplotlib.pyplot as plt\n",
    "\n",
    "np.random.seed(10)"
   ]
  },
  {
   "cell_type": "markdown",
   "id": "59da7b0b",
   "metadata": {},
   "source": [
    "# Explore the PG index"
   ]
  },
  {
   "cell_type": "code",
   "execution_count": 2,
   "id": "d27ebb79",
   "metadata": {},
   "outputs": [
    {
     "name": "stderr",
     "output_type": "stream",
     "text": [
      "/var/folders/n9/04fxpc3d4dn4s513dwth10b80000gn/T/ipykernel_34140/3300648097.py:5: DtypeWarning: Columns (8) have mixed types. Specify dtype option on import or set low_memory=False.\n",
      "  df = pd.read_csv(\"pg_catalog.csv\")\n"
     ]
    }
   ],
   "source": [
    "# download the index\n",
    "# csv_url = 'https://www.gutenberg.org/cache/epub/feeds/pg_catalog.csv'\n",
    "# df = pd.read_csv(csv_url)\n",
    "\n",
    "df = pd.read_csv(\"pg_catalog.csv\")"
   ]
  },
  {
   "cell_type": "code",
   "execution_count": 3,
   "id": "d9fcbe92",
   "metadata": {},
   "outputs": [
    {
     "data": {
      "text/html": [
       "<div>\n",
       "<style scoped>\n",
       "    .dataframe tbody tr th:only-of-type {\n",
       "        vertical-align: middle;\n",
       "    }\n",
       "\n",
       "    .dataframe tbody tr th {\n",
       "        vertical-align: top;\n",
       "    }\n",
       "\n",
       "    .dataframe thead th {\n",
       "        text-align: right;\n",
       "    }\n",
       "</style>\n",
       "<table border=\"1\" class=\"dataframe\">\n",
       "  <thead>\n",
       "    <tr style=\"text-align: right;\">\n",
       "      <th></th>\n",
       "      <th>Text#</th>\n",
       "      <th>Type</th>\n",
       "      <th>Issued</th>\n",
       "      <th>Title</th>\n",
       "      <th>Language</th>\n",
       "      <th>Authors</th>\n",
       "      <th>Subjects</th>\n",
       "      <th>LoCC</th>\n",
       "      <th>Bookshelves</th>\n",
       "    </tr>\n",
       "  </thead>\n",
       "  <tbody>\n",
       "    <tr>\n",
       "      <th>0</th>\n",
       "      <td>1</td>\n",
       "      <td>Text</td>\n",
       "      <td>1971-12-01</td>\n",
       "      <td>The Declaration of Independence of the United ...</td>\n",
       "      <td>en</td>\n",
       "      <td>Jefferson, Thomas, 1743-1826</td>\n",
       "      <td>United States -- History -- Revolution, 1775-1...</td>\n",
       "      <td>E201; JK</td>\n",
       "      <td>Politics; American Revolutionary War; United S...</td>\n",
       "    </tr>\n",
       "    <tr>\n",
       "      <th>1</th>\n",
       "      <td>2</td>\n",
       "      <td>Text</td>\n",
       "      <td>1972-12-01</td>\n",
       "      <td>The United States Bill of Rights\\r\\nThe Ten Or...</td>\n",
       "      <td>en</td>\n",
       "      <td>United States</td>\n",
       "      <td>Civil rights -- United States -- Sources; Unit...</td>\n",
       "      <td>JK; KF</td>\n",
       "      <td>Politics; American Revolutionary War; United S...</td>\n",
       "    </tr>\n",
       "    <tr>\n",
       "      <th>2</th>\n",
       "      <td>3</td>\n",
       "      <td>Text</td>\n",
       "      <td>1973-11-01</td>\n",
       "      <td>John F. Kennedy's Inaugural Address</td>\n",
       "      <td>en</td>\n",
       "      <td>Kennedy, John F. (John Fitzgerald), 1917-1963</td>\n",
       "      <td>United States -- Foreign relations -- 1961-196...</td>\n",
       "      <td>E838</td>\n",
       "      <td>NaN</td>\n",
       "    </tr>\n",
       "    <tr>\n",
       "      <th>3</th>\n",
       "      <td>4</td>\n",
       "      <td>Text</td>\n",
       "      <td>1973-11-01</td>\n",
       "      <td>Lincoln's Gettysburg Address\\r\\nGiven November...</td>\n",
       "      <td>en</td>\n",
       "      <td>Lincoln, Abraham, 1809-1865</td>\n",
       "      <td>Consecration of cemeteries -- Pennsylvania -- ...</td>\n",
       "      <td>E456</td>\n",
       "      <td>US Civil War</td>\n",
       "    </tr>\n",
       "    <tr>\n",
       "      <th>4</th>\n",
       "      <td>5</td>\n",
       "      <td>Text</td>\n",
       "      <td>1975-12-01</td>\n",
       "      <td>The United States Constitution</td>\n",
       "      <td>en</td>\n",
       "      <td>United States</td>\n",
       "      <td>United States -- Politics and government -- 17...</td>\n",
       "      <td>JK; KF</td>\n",
       "      <td>United States; Politics; American Revolutionar...</td>\n",
       "    </tr>\n",
       "  </tbody>\n",
       "</table>\n",
       "</div>"
      ],
      "text/plain": [
       "   Text#  Type      Issued                                              Title  \\\n",
       "0      1  Text  1971-12-01  The Declaration of Independence of the United ...   \n",
       "1      2  Text  1972-12-01  The United States Bill of Rights\\r\\nThe Ten Or...   \n",
       "2      3  Text  1973-11-01                John F. Kennedy's Inaugural Address   \n",
       "3      4  Text  1973-11-01  Lincoln's Gettysburg Address\\r\\nGiven November...   \n",
       "4      5  Text  1975-12-01                     The United States Constitution   \n",
       "\n",
       "  Language                                        Authors  \\\n",
       "0       en                   Jefferson, Thomas, 1743-1826   \n",
       "1       en                                  United States   \n",
       "2       en  Kennedy, John F. (John Fitzgerald), 1917-1963   \n",
       "3       en                    Lincoln, Abraham, 1809-1865   \n",
       "4       en                                  United States   \n",
       "\n",
       "                                            Subjects      LoCC  \\\n",
       "0  United States -- History -- Revolution, 1775-1...  E201; JK   \n",
       "1  Civil rights -- United States -- Sources; Unit...    JK; KF   \n",
       "2  United States -- Foreign relations -- 1961-196...      E838   \n",
       "3  Consecration of cemeteries -- Pennsylvania -- ...      E456   \n",
       "4  United States -- Politics and government -- 17...    JK; KF   \n",
       "\n",
       "                                         Bookshelves  \n",
       "0  Politics; American Revolutionary War; United S...  \n",
       "1  Politics; American Revolutionary War; United S...  \n",
       "2                                                NaN  \n",
       "3                                       US Civil War  \n",
       "4  United States; Politics; American Revolutionar...  "
      ]
     },
     "execution_count": 3,
     "metadata": {},
     "output_type": "execute_result"
    }
   ],
   "source": [
    "df.iloc[:5]"
   ]
  },
  {
   "cell_type": "code",
   "execution_count": 4,
   "id": "2a23bc2c",
   "metadata": {},
   "outputs": [],
   "source": [
    "# sometimes LoCC contains multiple ; separated annotations ... split these\n",
    "f = lambda x: [token.strip() for token in str(x).split(';')]\n",
    "df['locc_'] = df['LoCC'].map(f)"
   ]
  },
  {
   "cell_type": "code",
   "execution_count": 5,
   "id": "7a431eb7",
   "metadata": {},
   "outputs": [
    {
     "name": "stdout",
     "output_type": "stream",
     "text": [
      "en: 57340\n",
      "en_PS: 11116\n",
      "en_PS_fiction: 8760\n"
     ]
    }
   ],
   "source": [
    "# how many entries in the en/PS/fiction catagory?\n",
    "en = df.loc[(df.loc[:, 'Type']=='Text') & (df.loc[:, 'Language']=='en'),:]\n",
    "print(f'en: {len(en)}')\n",
    "\n",
    "f = lambda x: len(set(x).intersection(['PS'])) > 0\n",
    "en_PS = df.loc[(df.loc[:, 'Type']=='Text') & (df.loc[:, 'Language']=='en') & (df.loc[:, 'locc_'].map(f)), :]\n",
    "print(f'en_PS: {len(en_PS)}')\n",
    "\n",
    "f = lambda x: len(set(x).intersection(['PS'])) > 0\n",
    "g = lambda x: 'fiction' in str(x) or 'Fiction' in str(x)\n",
    "en_PS_fiction = df.loc[(df.loc[:, 'Type']=='Text') & (df.loc[:, 'Language']=='en') & (df.loc[:, 'locc_'].map(f)) & (df.loc[:, 'Subjects'].map(g)), :]\n",
    "print(f'en_PS_fiction: {len(en_PS_fiction)}')"
   ]
  },
  {
   "cell_type": "markdown",
   "id": "a6fcc154",
   "metadata": {},
   "source": [
    "# pull texts from PG"
   ]
  },
  {
   "cell_type": "markdown",
   "id": "b65494c1",
   "metadata": {},
   "source": [
    "## select a subset"
   ]
  },
  {
   "cell_type": "code",
   "execution_count": 6,
   "id": "3a649569",
   "metadata": {},
   "outputs": [
    {
     "name": "stdout",
     "output_type": "stream",
     "text": [
      "en_PS_fiction: 8760\n"
     ]
    }
   ],
   "source": [
    "# NOTE: you could sample here a reduced number here ...\n",
    "f = lambda x: len(set(x).intersection(['PS'])) > 0\n",
    "g = lambda x: 'fiction' in str(x) or 'Fiction' in str(x)\n",
    "df_subset = df.loc[(df.loc[:, 'Type']=='Text') & (df.loc[:, 'Language']=='en') & (df.loc[:, 'locc_'].map(f)) & (df.loc[:, 'Subjects'].map(g)), :]\n",
    "print(f'en_PS_fiction: {len(df_subset)}')"
   ]
  },
  {
   "cell_type": "markdown",
   "id": "7ed8cd66",
   "metadata": {},
   "source": [
    "## pull the the subset"
   ]
  },
  {
   "cell_type": "markdown",
   "id": "2f857c41",
   "metadata": {},
   "source": [
    "### test case ... finding the latest available .txt file for the book"
   ]
  },
  {
   "cell_type": "code",
   "execution_count": 7,
   "id": "13b23b7c",
   "metadata": {},
   "outputs": [
    {
     "data": {
      "text/plain": [
       "['6526-8.txt']"
      ]
     },
     "execution_count": 7,
     "metadata": {},
     "output_type": "execute_result"
    }
   ],
   "source": [
    "# test case\n",
    "book_url = 'http://www.mirrorservice.org/sites/ftp.ibiblio.org/pub/docs/books/gutenberg/6/5/2/6526'\n",
    "r = requests.get(book_url)\n",
    "doc_names = sorted(re.findall(f'\"(\\d+-\\d+\\.txt?)\"', r.text))\n",
    "doc_names"
   ]
  },
  {
   "cell_type": "markdown",
   "id": "795e43c6",
   "metadata": {},
   "source": [
    "### add each book url to the dataframe\n",
    "\n",
    "(takes about 20 mins)"
   ]
  },
  {
   "cell_type": "code",
   "execution_count": null,
   "id": "4a0fc0fe",
   "metadata": {},
   "outputs": [],
   "source": [
    "def create_url(textid)->str:\n",
    "    \n",
    "    base_url = (\n",
    "        \"http://www.mirrorservice.org/sites/ftp.ibiblio.org/pub/docs/books/gutenberg\"\n",
    "    )\n",
    "    \n",
    "    f = lambda number: \"/\".join([c for c in str(textid)[:-1]]) + f\"/{textid}\"\n",
    "    book_url = f\"{base_url}/{f(textid)}\"\n",
    "    \n",
    "    # get list of .txt to be found for each book, sorted\n",
    "    try:\n",
    "        r = requests.get(book_url)\n",
    "        time.sleep(0.01)  # let's try not to overload the servers!\n",
    "        txt_names = sorted(re.findall(f'\"(\\d+(?:-\\d+)*\\.txt?)\"', r.text))\n",
    "\n",
    "        return book_url + '/' + txt_names[-1]\n",
    "    except:\n",
    "        return ''\n",
    "    \n",
    "# test case ... 66666 as previous\n",
    "[create_url(textid) for textid in tqdm(['66666'])]\n",
    "\n",
    "# pull all books in subset\n",
    "ids: list[str] = [str(x).strip() for x in df_subset['Text#'].values]\n",
    "df_subset['book_url'] =  [create_url(textid) for textid in tqdm(ids)]"
   ]
  },
  {
   "cell_type": "code",
   "execution_count": 88,
   "id": "2a99c405",
   "metadata": {},
   "outputs": [],
   "source": [
    "df_subset.to_csv('book_urls.csv')"
   ]
  },
  {
   "cell_type": "markdown",
   "id": "faa331c3",
   "metadata": {},
   "source": [
    "### or load an existing book_urls.csv file"
   ]
  },
  {
   "cell_type": "code",
   "execution_count": 2,
   "id": "97487419",
   "metadata": {},
   "outputs": [],
   "source": [
    "df_subset = pd.read_csv('book_urls.csv')"
   ]
  },
  {
   "cell_type": "markdown",
   "id": "e2b89116",
   "metadata": {},
   "source": [
    "### how well have we done?"
   ]
  },
  {
   "cell_type": "code",
   "execution_count": 3,
   "id": "4c32325a",
   "metadata": {},
   "outputs": [
    {
     "data": {
      "text/plain": [
       "'A private chivalry'"
      ]
     },
     "metadata": {},
     "output_type": "display_data"
    },
    {
     "data": {
      "text/plain": [
       "'http://www.mirrorservice.org/sites/ftp.ibiblio.org/pub/docs/books/gutenberg/7/2/8/4/72849/72849-0.txt'"
      ]
     },
     "metadata": {},
     "output_type": "display_data"
    },
    {
     "data": {
      "text/plain": [
       "72849"
      ]
     },
     "metadata": {},
     "output_type": "display_data"
    },
    {
     "data": {
      "text/html": [
       "<div>\n",
       "<style scoped>\n",
       "    .dataframe tbody tr th:only-of-type {\n",
       "        vertical-align: middle;\n",
       "    }\n",
       "\n",
       "    .dataframe tbody tr th {\n",
       "        vertical-align: top;\n",
       "    }\n",
       "\n",
       "    .dataframe thead th {\n",
       "        text-align: right;\n",
       "    }\n",
       "</style>\n",
       "<table border=\"1\" class=\"dataframe\">\n",
       "  <thead>\n",
       "    <tr style=\"text-align: right;\">\n",
       "      <th></th>\n",
       "      <th>Unnamed: 0.1</th>\n",
       "      <th>Unnamed: 0</th>\n",
       "      <th>Text#</th>\n",
       "      <th>Type</th>\n",
       "      <th>Issued</th>\n",
       "      <th>Title</th>\n",
       "      <th>Language</th>\n",
       "      <th>Authors</th>\n",
       "      <th>Subjects</th>\n",
       "      <th>LoCC</th>\n",
       "      <th>Bookshelves</th>\n",
       "      <th>locc_</th>\n",
       "      <th>book_url</th>\n",
       "    </tr>\n",
       "  </thead>\n",
       "  <tbody>\n",
       "    <tr>\n",
       "      <th>0</th>\n",
       "      <td>0</td>\n",
       "      <td>14</td>\n",
       "      <td>15</td>\n",
       "      <td>Text</td>\n",
       "      <td>1991-05-01</td>\n",
       "      <td>Moby-Dick; or, The Whale</td>\n",
       "      <td>en</td>\n",
       "      <td>Melville, Herman, 1819-1891</td>\n",
       "      <td>Whaling -- Fiction; Sea stories; Psychological...</td>\n",
       "      <td>PS</td>\n",
       "      <td>Best Books Ever Listings; Adventure</td>\n",
       "      <td>['PS']</td>\n",
       "      <td>http://www.mirrorservice.org/sites/ftp.ibiblio...</td>\n",
       "    </tr>\n",
       "    <tr>\n",
       "      <th>1</th>\n",
       "      <td>1</td>\n",
       "      <td>23</td>\n",
       "      <td>24</td>\n",
       "      <td>Text</td>\n",
       "      <td>2008-06-27</td>\n",
       "      <td>O Pioneers!</td>\n",
       "      <td>en</td>\n",
       "      <td>Cather, Willa, 1873-1947</td>\n",
       "      <td>Nebraska -- Fiction; Historical fiction; Front...</td>\n",
       "      <td>PS</td>\n",
       "      <td>NaN</td>\n",
       "      <td>['PS']</td>\n",
       "      <td>http://www.mirrorservice.org/sites/ftp.ibiblio...</td>\n",
       "    </tr>\n",
       "    <tr>\n",
       "      <th>2</th>\n",
       "      <td>2</td>\n",
       "      <td>31</td>\n",
       "      <td>32</td>\n",
       "      <td>Text</td>\n",
       "      <td>2008-06-27</td>\n",
       "      <td>Herland</td>\n",
       "      <td>en</td>\n",
       "      <td>Gilman, Charlotte Perkins, 1860-1935</td>\n",
       "      <td>Utopias -- Fiction; Women -- Fiction; Utopian ...</td>\n",
       "      <td>PS</td>\n",
       "      <td>Best Books Ever Listings</td>\n",
       "      <td>['PS']</td>\n",
       "      <td>http://www.mirrorservice.org/sites/ftp.ibiblio...</td>\n",
       "    </tr>\n",
       "    <tr>\n",
       "      <th>3</th>\n",
       "      <td>3</td>\n",
       "      <td>32</td>\n",
       "      <td>33</td>\n",
       "      <td>Text</td>\n",
       "      <td>1992-06-01</td>\n",
       "      <td>The Scarlet Letter</td>\n",
       "      <td>en</td>\n",
       "      <td>Hawthorne, Nathaniel, 1804-1864</td>\n",
       "      <td>Adultery -- Fiction; Historical fiction; Reven...</td>\n",
       "      <td>PS</td>\n",
       "      <td>Harvard Classics; Movie Books</td>\n",
       "      <td>['PS']</td>\n",
       "      <td>http://www.mirrorservice.org/sites/ftp.ibiblio...</td>\n",
       "    </tr>\n",
       "    <tr>\n",
       "      <th>4</th>\n",
       "      <td>4</td>\n",
       "      <td>40</td>\n",
       "      <td>41</td>\n",
       "      <td>Text</td>\n",
       "      <td>2008-06-27</td>\n",
       "      <td>The Legend of Sleepy Hollow</td>\n",
       "      <td>en</td>\n",
       "      <td>Irving, Washington, 1783-1859</td>\n",
       "      <td>Ghosts -- Fiction; New York (State) -- History...</td>\n",
       "      <td>PS</td>\n",
       "      <td>Children's Literature; Harvard Classics</td>\n",
       "      <td>['PS']</td>\n",
       "      <td>http://www.mirrorservice.org/sites/ftp.ibiblio...</td>\n",
       "    </tr>\n",
       "    <tr>\n",
       "      <th>...</th>\n",
       "      <td>...</td>\n",
       "      <td>...</td>\n",
       "      <td>...</td>\n",
       "      <td>...</td>\n",
       "      <td>...</td>\n",
       "      <td>...</td>\n",
       "      <td>...</td>\n",
       "      <td>...</td>\n",
       "      <td>...</td>\n",
       "      <td>...</td>\n",
       "      <td>...</td>\n",
       "      <td>...</td>\n",
       "      <td>...</td>\n",
       "    </tr>\n",
       "    <tr>\n",
       "      <th>8755</th>\n",
       "      <td>8900</td>\n",
       "      <td>72730</td>\n",
       "      <td>72811</td>\n",
       "      <td>Text</td>\n",
       "      <td>2024-01-29</td>\n",
       "      <td>A winter in retirement</td>\n",
       "      <td>en</td>\n",
       "      <td>Washburn, Hannah Blaney</td>\n",
       "      <td>Rome -- History -- Nero, 54-68 -- Fiction; Chr...</td>\n",
       "      <td>PS</td>\n",
       "      <td>NaN</td>\n",
       "      <td>['PS']</td>\n",
       "      <td>http://www.mirrorservice.org/sites/ftp.ibiblio...</td>\n",
       "    </tr>\n",
       "    <tr>\n",
       "      <th>8756</th>\n",
       "      <td>8901</td>\n",
       "      <td>72733</td>\n",
       "      <td>72814</td>\n",
       "      <td>Text</td>\n",
       "      <td>2024-01-29</td>\n",
       "      <td>An imperial lover</td>\n",
       "      <td>en</td>\n",
       "      <td>Taylor, Mary Imlay, 1878-1938</td>\n",
       "      <td>Courts and courtiers -- Fiction; Peter I, Empe...</td>\n",
       "      <td>PS</td>\n",
       "      <td>NaN</td>\n",
       "      <td>['PS']</td>\n",
       "      <td>http://www.mirrorservice.org/sites/ftp.ibiblio...</td>\n",
       "    </tr>\n",
       "    <tr>\n",
       "      <th>8757</th>\n",
       "      <td>8902</td>\n",
       "      <td>72745</td>\n",
       "      <td>72826</td>\n",
       "      <td>Text</td>\n",
       "      <td>2024-01-30</td>\n",
       "      <td>The foster-sisters</td>\n",
       "      <td>en</td>\n",
       "      <td>Guernsey, Lucy Ellen, 1826-1899</td>\n",
       "      <td>Historical fiction; Young women -- Fiction; Ev...</td>\n",
       "      <td>PS</td>\n",
       "      <td>NaN</td>\n",
       "      <td>['PS']</td>\n",
       "      <td>http://www.mirrorservice.org/sites/ftp.ibiblio...</td>\n",
       "    </tr>\n",
       "    <tr>\n",
       "      <th>8758</th>\n",
       "      <td>8903</td>\n",
       "      <td>72747</td>\n",
       "      <td>72828</td>\n",
       "      <td>Text</td>\n",
       "      <td>2024-01-30</td>\n",
       "      <td>A candle in the wind</td>\n",
       "      <td>en</td>\n",
       "      <td>Taylor, Mary Imlay, 1878-1938</td>\n",
       "      <td>Man-woman relationships -- Fiction; Explorers ...</td>\n",
       "      <td>PS</td>\n",
       "      <td>NaN</td>\n",
       "      <td>['PS']</td>\n",
       "      <td>http://www.mirrorservice.org/sites/ftp.ibiblio...</td>\n",
       "    </tr>\n",
       "    <tr>\n",
       "      <th>8759</th>\n",
       "      <td>8904</td>\n",
       "      <td>72768</td>\n",
       "      <td>72849</td>\n",
       "      <td>Text</td>\n",
       "      <td>2024-02-01</td>\n",
       "      <td>A private chivalry</td>\n",
       "      <td>en</td>\n",
       "      <td>Lynde, Francis, 1856-1930</td>\n",
       "      <td>Western stories; Love stories; Gamblers -- Fic...</td>\n",
       "      <td>PS</td>\n",
       "      <td>NaN</td>\n",
       "      <td>['PS']</td>\n",
       "      <td>http://www.mirrorservice.org/sites/ftp.ibiblio...</td>\n",
       "    </tr>\n",
       "  </tbody>\n",
       "</table>\n",
       "<p>8760 rows × 13 columns</p>\n",
       "</div>"
      ],
      "text/plain": [
       "      Unnamed: 0.1  Unnamed: 0  Text#  Type      Issued  \\\n",
       "0                0          14     15  Text  1991-05-01   \n",
       "1                1          23     24  Text  2008-06-27   \n",
       "2                2          31     32  Text  2008-06-27   \n",
       "3                3          32     33  Text  1992-06-01   \n",
       "4                4          40     41  Text  2008-06-27   \n",
       "...            ...         ...    ...   ...         ...   \n",
       "8755          8900       72730  72811  Text  2024-01-29   \n",
       "8756          8901       72733  72814  Text  2024-01-29   \n",
       "8757          8902       72745  72826  Text  2024-01-30   \n",
       "8758          8903       72747  72828  Text  2024-01-30   \n",
       "8759          8904       72768  72849  Text  2024-02-01   \n",
       "\n",
       "                            Title Language  \\\n",
       "0        Moby-Dick; or, The Whale       en   \n",
       "1                     O Pioneers!       en   \n",
       "2                         Herland       en   \n",
       "3              The Scarlet Letter       en   \n",
       "4     The Legend of Sleepy Hollow       en   \n",
       "...                           ...      ...   \n",
       "8755       A winter in retirement       en   \n",
       "8756            An imperial lover       en   \n",
       "8757           The foster-sisters       en   \n",
       "8758         A candle in the wind       en   \n",
       "8759           A private chivalry       en   \n",
       "\n",
       "                                   Authors  \\\n",
       "0              Melville, Herman, 1819-1891   \n",
       "1                 Cather, Willa, 1873-1947   \n",
       "2     Gilman, Charlotte Perkins, 1860-1935   \n",
       "3          Hawthorne, Nathaniel, 1804-1864   \n",
       "4            Irving, Washington, 1783-1859   \n",
       "...                                    ...   \n",
       "8755               Washburn, Hannah Blaney   \n",
       "8756         Taylor, Mary Imlay, 1878-1938   \n",
       "8757       Guernsey, Lucy Ellen, 1826-1899   \n",
       "8758         Taylor, Mary Imlay, 1878-1938   \n",
       "8759             Lynde, Francis, 1856-1930   \n",
       "\n",
       "                                               Subjects LoCC  \\\n",
       "0     Whaling -- Fiction; Sea stories; Psychological...   PS   \n",
       "1     Nebraska -- Fiction; Historical fiction; Front...   PS   \n",
       "2     Utopias -- Fiction; Women -- Fiction; Utopian ...   PS   \n",
       "3     Adultery -- Fiction; Historical fiction; Reven...   PS   \n",
       "4     Ghosts -- Fiction; New York (State) -- History...   PS   \n",
       "...                                                 ...  ...   \n",
       "8755  Rome -- History -- Nero, 54-68 -- Fiction; Chr...   PS   \n",
       "8756  Courts and courtiers -- Fiction; Peter I, Empe...   PS   \n",
       "8757  Historical fiction; Young women -- Fiction; Ev...   PS   \n",
       "8758  Man-woman relationships -- Fiction; Explorers ...   PS   \n",
       "8759  Western stories; Love stories; Gamblers -- Fic...   PS   \n",
       "\n",
       "                                  Bookshelves   locc_  \\\n",
       "0         Best Books Ever Listings; Adventure  ['PS']   \n",
       "1                                         NaN  ['PS']   \n",
       "2                    Best Books Ever Listings  ['PS']   \n",
       "3               Harvard Classics; Movie Books  ['PS']   \n",
       "4     Children's Literature; Harvard Classics  ['PS']   \n",
       "...                                       ...     ...   \n",
       "8755                                      NaN  ['PS']   \n",
       "8756                                      NaN  ['PS']   \n",
       "8757                                      NaN  ['PS']   \n",
       "8758                                      NaN  ['PS']   \n",
       "8759                                      NaN  ['PS']   \n",
       "\n",
       "                                               book_url  \n",
       "0     http://www.mirrorservice.org/sites/ftp.ibiblio...  \n",
       "1     http://www.mirrorservice.org/sites/ftp.ibiblio...  \n",
       "2     http://www.mirrorservice.org/sites/ftp.ibiblio...  \n",
       "3     http://www.mirrorservice.org/sites/ftp.ibiblio...  \n",
       "4     http://www.mirrorservice.org/sites/ftp.ibiblio...  \n",
       "...                                                 ...  \n",
       "8755  http://www.mirrorservice.org/sites/ftp.ibiblio...  \n",
       "8756  http://www.mirrorservice.org/sites/ftp.ibiblio...  \n",
       "8757  http://www.mirrorservice.org/sites/ftp.ibiblio...  \n",
       "8758  http://www.mirrorservice.org/sites/ftp.ibiblio...  \n",
       "8759  http://www.mirrorservice.org/sites/ftp.ibiblio...  \n",
       "\n",
       "[8760 rows x 13 columns]"
      ]
     },
     "execution_count": 3,
     "metadata": {},
     "output_type": "execute_result"
    }
   ],
   "source": [
    "# # check the last ... if it tallies, then the preceding should too\n",
    "display(df_subset.loc[8759, 'Title'])\n",
    "display(df_subset.loc[8759, 'book_url'])\n",
    "display(df_subset.loc[8759, 'Text#'])\n",
    "\n",
    "# get whole-dataframe ... how big is it?\n",
    "df_subset.loc[df_subset.loc[:, 'book_url']!='',:]  # subset of not--failed "
   ]
  },
  {
   "cell_type": "markdown",
   "id": "50eebb92",
   "metadata": {},
   "source": [
    "**we have the full quota of 8760! yay!**"
   ]
  },
  {
   "cell_type": "markdown",
   "id": "d08ac079",
   "metadata": {},
   "source": [
    "### pull the urls and save\n",
    "\n",
    "(takes about 20 mins)"
   ]
  },
  {
   "cell_type": "code",
   "execution_count": 93,
   "id": "4bd9a3b2",
   "metadata": {},
   "outputs": [
    {
     "name": "stderr",
     "output_type": "stream",
     "text": [
      "8760it [24:38,  5.93it/s]\n"
     ]
    }
   ],
   "source": [
    "ids: list[str] = [str(x).strip() for x in df_subset['Text#'].values]\n",
    "urls: list[str] = df_subset['book_url'].values\n",
    "    \n",
    "save_dir = pathlib.Path('/Users/PATH_TO/PG_en_PS_fiction_050204').expanduser().resolve()\n",
    "save_dir.mkdir(exist_ok=True, parents=True)\n",
    "\n",
    "failed_ids = []\n",
    "for textid, book_url in tqdm(zip(ids, urls)):\n",
    "    try:\n",
    "        r = requests.get(book_url).content\n",
    "        time.sleep(0.01)\n",
    "        if r:\n",
    "            with open(save_dir / f\"{textid}.txt\", 'wb') as f:\n",
    "                f.write(r)\n",
    "    except:\n",
    "        failed_ids.append(textid)"
   ]
  },
  {
   "cell_type": "code",
   "execution_count": 95,
   "id": "35b6334b",
   "metadata": {},
   "outputs": [
    {
     "data": {
      "text/plain": [
       "['8716']"
      ]
     },
     "execution_count": 95,
     "metadata": {},
     "output_type": "execute_result"
    }
   ],
   "source": [
    "# get ids which we failed to fetch\n",
    "failed_ids"
   ]
  },
  {
   "cell_type": "markdown",
   "id": "cf1dc3ab",
   "metadata": {},
   "source": [
    "Note: 8716 retrospectively downloaded and added\n",
    "\n",
    "Total 8760 books downloaded"
   ]
  },
  {
   "cell_type": "markdown",
   "id": "ae482758",
   "metadata": {},
   "source": [
    "# what's the distribution of author dates"
   ]
  },
  {
   "cell_type": "code",
   "execution_count": 39,
   "id": "ecf5e059",
   "metadata": {},
   "outputs": [
    {
     "name": "stderr",
     "output_type": "stream",
     "text": [
      "100%|███████████████████████████████████| 8760/8760 [00:00<00:00, 373702.98it/s]\n"
     ]
    }
   ],
   "source": [
    "starts = []\n",
    "ends = []\n",
    "unknowns = 0\n",
    "for author in tqdm(df_subset['Authors'].values):\n",
    "    if author:\n",
    "        match = re.search(r'(\\d+)-(\\d+)', str(author))\n",
    "        if match:\n",
    "            start, end = match.groups()\n",
    "            starts.append(start)\n",
    "            ends.append(end)\n",
    "        else:\n",
    "            unknowns += 1\n",
    "#             print(author)\n",
    "    else:\n",
    "        unknowns+=1\n",
    "#         print(author)\n",
    "        \n",
    "# convert to ints\n",
    "starts = [int(start) for start in starts]\n",
    "ends = [int(end) for end in ends]"
   ]
  },
  {
   "cell_type": "code",
   "execution_count": 37,
   "id": "89266eff",
   "metadata": {},
   "outputs": [
    {
     "data": {
      "text/plain": [
       "876"
      ]
     },
     "execution_count": 37,
     "metadata": {},
     "output_type": "execute_result"
    }
   ],
   "source": [
    "unknowns"
   ]
  },
  {
   "cell_type": "code",
   "execution_count": 41,
   "id": "a444eaa1",
   "metadata": {},
   "outputs": [
    {
     "data": {
      "text/plain": [
       "(array([  12.,   64.,  222.,  300.,  979., 1771., 1836.,  548., 1365.,\n",
       "         787.]),\n",
       " array([1759. , 1777.1, 1795.2, 1813.3, 1831.4, 1849.5, 1867.6, 1885.7,\n",
       "        1903.8, 1921.9, 1940. ]),\n",
       " <BarContainer object of 10 artists>)"
      ]
     },
     "execution_count": 41,
     "metadata": {},
     "output_type": "execute_result"
    },
    {
     "data": {
      "image/png": "[encoded data removed]",
      "text/plain": [
       "<Figure size 640x480 with 1 Axes>"
      ]
     },
     "metadata": {},
     "output_type": "display_data"
    }
   ],
   "source": [
    "plt.hist(starts)"
   ]
  },
  {
   "cell_type": "code",
   "execution_count": 42,
   "id": "a068979f",
   "metadata": {},
   "outputs": [
    {
     "data": {
      "text/plain": [
       "(array([9.000e+00, 2.000e+00, 1.010e+02, 1.550e+02, 6.920e+02, 1.698e+03,\n",
       "        2.104e+03, 1.186e+03, 1.194e+03, 7.430e+02]),\n",
       " array([1793., 1816., 1839., 1862., 1885., 1908., 1931., 1954., 1977.,\n",
       "        2000., 2023.]),\n",
       " <BarContainer object of 10 artists>)"
      ]
     },
     "execution_count": 42,
     "metadata": {},
     "output_type": "execute_result"
    },
    {
     "data": {
      "image/png": "[encoded data removed]",
      "text/plain": [
       "<Figure size 640x480 with 1 Axes>"
      ]
     },
     "metadata": {},
     "output_type": "display_data"
    }
   ],
   "source": [
    "plt.hist(ends)"
   ]
  },
  {
   "cell_type": "code",
   "execution_count": null,
   "id": "8a3aefb4",
   "metadata": {},
   "outputs": [],
   "source": []
  }
 ],
 "metadata": {
  "kernelspec": {
   "display_name": "Python 3 (ipykernel)",
   "language": "python",
   "name": "python3"
  },
  "language_info": {
   "codemirror_mode": {
    "name": "ipython",
    "version": 3
   },
   "file_extension": ".py",
   "mimetype": "text/x-python",
   "name": "python",
   "nbconvert_exporter": "python",
   "pygments_lexer": "ipython3",
   "version": "3.10.4"
  }
 },
 "nbformat": 4,
 "nbformat_minor": 5
}
